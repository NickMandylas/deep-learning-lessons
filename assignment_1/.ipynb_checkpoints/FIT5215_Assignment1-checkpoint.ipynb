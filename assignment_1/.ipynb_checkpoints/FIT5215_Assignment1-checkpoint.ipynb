{
 "cells": [
  {
   "cell_type": "markdown",
   "metadata": {},
   "source": [
    "# <span style=\"color:#0b486b\">  FIT5215: Deep Learning (2020)</span>\n",
    "***\n",
    "*Chief Examiner:* Prof **Dinh Phung** | dinh.phung@monash.edu <br/>\n",
    "*Lecturer:* Dr **Trung Le** | trunglm@monash.edu <br/>\n",
    "*Tutor:* Mr **Anh Bui** | tuananh.bui@monash.edu <br/>\n",
    "<br/>\n",
    "Department of Data Science and AI, Faculty of Information Technology, Monash University, Australia\n",
    "***"
   ]
  },
  {
   "cell_type": "markdown",
   "metadata": {},
   "source": [
    "# <span style=\"color:#0b486b\">Deep Neural Networks</span>\n",
    "### Due: <span style=\"color:red\">11:00pm Sunday, 02 August 2020</span>  (Friday)\n",
    "\n",
    "#### <span style=\"color:red\">Important note:</span> This is an **individual** assignment. It contributes **20%** to you final mark. Read the assignment instruction carefully."
   ]
  },
  {
   "cell_type": "markdown",
   "metadata": {},
   "source": [
    "## <span style=\"color:#0b486b\">Instruction</span>\n",
    "\n",
    "This notebook has been prepared for your to complete Assignment 1. The theme of this assignment is about practical machine learning knowledge and skills in deep neural networks, including feedforward and convolutional neural networks. Some sections have been partially completed to help you get\n",
    "started. **The total marks for this notebook is 100**.\n",
    "\n",
    "* Before you start, read the entire notebook carefully once to understand what you need to do. <br><br>\n",
    "\n",
    "* For each cell marked with **#YOU ARE REQUIRED TO INSERT YOUR CODES IN THIS CELL**, there will be places where you **must** supply your own codes when instructed. <br>\n",
    "\n",
    "This assignment contains **three** parts:\n",
    "\n",
    "* Part 1: Questions on theory and knowledge on machine learning and deep learning **[30 points], 30%**\n",
    "* Part 2: Coding assessment on TensorFlow for Deep Neural Networks (DNN) **[30 points], 30%**\n",
    "* Part 3: Coding assessment on TensorFlow for Convolution Neural Networks (CNN) **[40 points], 40%**\n",
    "\n",
    "**Hint**: This assignment was essentially designed based on the lectures and tutorials sessions covered from Week 1 to Week 4. You are strongly recommended to go through these contents thoroughly which might help you to complete this assignment."
   ]
  },
  {
   "cell_type": "markdown",
   "metadata": {},
   "source": [
    "## <span style=\"color:#0b486b\">What to submit</span>\n",
    "\n",
    "This assignment is to be completed individually and submitted to Moodle unit site. **By the due date, you are required to submit one  <span style=\"color:red; font-weight:bold\">single zip file, named xxx_assignment01_solution.zip</span> where `xxx` is your student ID, to the corresponding Assignment (Dropbox) in Moodle**. "
   ]
  },
  {
   "cell_type": "markdown",
   "metadata": {},
   "source": [
    "***For example, if your student ID is <span style=\"color:red; font-weight:bold\">12356</span>, then gather all of your assignment solution to folder, create a zip file named <span style=\"color:red; font-weight:bold\">123456_assignment01_solution.zip</span> and submit this file.***"
   ]
  },
  {
   "cell_type": "markdown",
   "metadata": {},
   "source": [
    "Within this zip folder, you **must** submit the following files:\n",
    "1.\t**Assignment01_solution.ipynp**:  this is your Python notebook solution source file.\n",
    "1.\t**Assingment01_output.html**: this is the output of your Python notebook solution *exported* in html format.\n",
    "1.\tAny **extra files or folder** needed to complete your assignment (e.g., images used in your answers)."
   ]
  },
  {
   "cell_type": "markdown",
   "metadata": {},
   "source": [
    "Since the notebook is quite big to load and work together, one recommended option is to split solution into three parts and work on them seperately. In that case, replace **Assignment01_solution.ipynp** by three notebooks: **Assignment01_Part1_solution.ipynp**, **Assignment01_Part2_solution.ipynp** and **Assignment01_Part3_solution.ipynp**"
   ]
  },
  {
   "cell_type": "markdown",
   "metadata": {},
   "source": [
    "## <span style=\"color:#0b486b\">Part 1: Theory and Knowledge Questions</span>\n",
    "<div style=\"text-align: right\"><span style=\"color:red; font-weight:bold\">[Total marks for this part: 30 points]<span></div>"
   ]
  },
  {
   "cell_type": "markdown",
   "metadata": {},
   "source": [
    "The first part of this assignment is for you to demonstrate your knowledge in deep learning that you have acquired from the lectures and tutorials materials. Most of the contents in this assignment are drawn from the tutorials covered from weeks 1 to 4. Going through these materials before attempting this part is highly recommended."
   ]
  },
  {
   "cell_type": "markdown",
   "metadata": {},
   "source": [
    "####  <span style=\"color:red\">**Question 1.1**</span> **Activation function plays an important role in modern Deep NNs. For each of the activation function below, state its output range and find its derivative (show your steps)**\n",
    "\n",
    "<span style=\"color:red\">**(a)**</span> Sigmoid: $\\sigma(x) = \\frac{1}{1+\\text{exp}{(-x)}}$ \n",
    "<div style=\"text-align: right\"><span style=\"color:red\">[1.5 points]</span></div> \n",
    "\n",
    "<span style=\"color:red\">**(b)**</span> Tanh: $\\sigma(x) = \\frac{\\exp(x) - \\exp{(-x)}}{\\exp(x) + \\exp{(-x)}}= \\frac{1-\\exp(-2x)}{1+\\exp(2x)}$\n",
    "<div style=\"text-align: right\"><span style=\"color:red\">[1.5 points]</span></div> "
   ]
  },
  {
   "cell_type": "markdown",
   "metadata": {},
   "source": [
    "####  <span style=\"color:red\">**Question 1.2**</span> **Softmax activation aims to transform discriminative values to prediction probabilities. Assume that at the output layer, we obtain the logit $h^{L}=[2,-1,5,0]$. What is the corresonding prediction probabilities $p(x)$?**\n",
    "\n",
    "<div style=\"text-align: right\"><span style=\"color:red\">[3 points]</span></div> \n"
   ]
  },
  {
   "cell_type": "markdown",
   "metadata": {},
   "source": [
    "####  <span style=\"color:red\">**Question 1.3**</span> **Linear operation and element-wise activation are two building-blocks for conducting a layer in a feedforward neural network.**\n",
    "\n",
    "<span style=\"color:red\">**(a)**</span> Assume that hidden layer $1$ has value $h^1(x)= \\left[\\begin{array}{ccc}\n",
    "1 & 2.5 \\end{array}\\right]^T$ and the weight matrix and bias at the second layer are:\n",
    "- $W^{2}=\\left[\\begin{array}{cc}\n",
    "1 & -1\\\\\n",
    "-1 & -1\\\\\n",
    "-1 & 0\n",
    "\\end{array}\\right]$.\n",
    "What is the value of the hidden layer $\\bar{h}^{2}(x)$ after applying *the linear operation* with the matrix $W^2$ and the bias $b^2$ over $h^1$.\n",
    "\n",
    "<div style=\"text-align: right\"><span style=\"color:red\">[2 points]</span></div> \n",
    "\n",
    "\n",
    "<span style=\"color:red\">**(b)**</span> Assume that we apply *the ReLU activation function* at the second layer. What is the value of the hidden layer $h^2(x)$ after we apply the activation function?\n",
    "\n",
    "<div style=\"text-align: right\"><span style=\"color:red\">[2 points]</span></div> \n"
   ]
  },
  {
   "cell_type": "markdown",
   "metadata": {},
   "source": [
    "####  <span style=\"color:red\">**Question 1.4**</span> **Assume that we are conducting a multilayered feedforward neural network for a regression problem to predict to real-valued $y_1, y_2$, and $y_3$. The architecture of this network ($3 (Input)\\rightarrow4(ReLU)\\rightarrow 3(Output)$) is shown in the following figure**:\n",
    "\n",
    "\n",
    "<img src=\"Figures/FeedforwardNN.png\" width=\"500\" align=\"center\"/>\n",
    "\n",
    "We now feed a feature vector $x=\\left[\\begin{array}{ccc}\n",
    "1.2 & -1 & 2\\end{array}\\right]^{T}$ with ground-truth label $y=\\left[\\begin{array}{ccc} 1.5 & -1 & 2\\end{array}\\right]^{T}$ to the above network. \n",
    "\n",
    "**Forward propagation**\n",
    "\n",
    "<span style=\"color:red\">**(a)**</span>  What is the value of $\\bar{h}^{1}(x)$?\n",
    "<div style=\"text-align: right\"><span style=\"color:red\">[1.5 points]</span></div>\n",
    "\n",
    "<span style=\"color:red\">**(b)**</span>  What is the value of $h^{1}(x)$?\n",
    "<div style=\"text-align: right\"><span style=\"color:red\">[1.5 points]</span></div>\n",
    "\n",
    "<span style=\"color:red\">**(c)**</span>  What is the predicted value $\\hat{y}$?\n",
    "<div style=\"text-align: right\"><span style=\"color:red\">[1.5 points]</span></div>\n",
    "\n",
    "<span style=\"color:red\">**(d)**</span>  Suppose that we use the L2 loss. What is the value of the L2 loss $l$?\n",
    "<div style=\"text-align: right\"><span style=\"color:red\">[1.5 points]</span></div>\n",
    "\n",
    "**Backward propagation**\n",
    "\n",
    "<span style=\"color:red\">**(e)**</span> What are the derivatives $\\frac{\\partial l}{\\partial h^{2}},\\frac{\\partial l}{\\partial W^{2}}$, and $\\frac{\\partial l}{\\partial b^{2}}$? \n",
    "<div style=\"text-align: right\"><span style=\"color:red\">[5 points]</span></div>\n",
    "\n",
    "<span style=\"color:red\">**(f)**</span> What are the derivatives $\\frac{\\partial l}{\\partial h^{1}}, \\frac{\\partial l}{\\partial \\bar{h}^{1}},\\frac{\\partial l}{\\partial W^{1}}$, and $\\frac{\\partial l}{\\partial b^{1}}$? \n",
    "<div style=\"text-align: right\"><span style=\"color:red\">[5 points]</span></div>\n",
    "\n",
    "**SGD update**\n",
    "\n",
    "<span style=\"color:red\">**(g)**</span> Assume that we use SGD with learning rate $\\eta=0.01$ to update the model parameters. What are the values of $W^2, b^2$ and $W^1, b^1$ after updating?\n",
    "<div style=\"text-align: right\"><span style=\"color:red\">[4 points]</span></div>"
   ]
  },
  {
   "cell_type": "markdown",
   "metadata": {},
   "source": [
    "## <span style=\"color:#0b486b\">Part 2: Deep Neural Networks (DNN) </span>\n",
    "<div style=\"text-align: right\"><span style=\"color:red; font-weight:bold\">[Total marks for this part: 30 points]<span></div>\n",
    "\n",
    "The first part of this assignment is for you to demonstrate your basis knowledge in deep learning that you have acquired from the lectures and tutorials materials. Most of the contents in this assignment are drawn from **the tutorials covered from weeks 1 to 4**. Going through these materials before attempting this assignment is highly recommended."
   ]
  },
  {
   "cell_type": "markdown",
   "metadata": {},
   "source": [
    "In the first part of this assignment, you are going to work with the **FashionMNIST** dataset for *image recognition task*. It has the exact same format as MNIST (70,000 grayscale images of 28 × 28 pixels each, with 10 classes), but the images represent fashion items rather than handwritten digits, so each class is more diverse, and the problem turns out to be significantly more challenging than MNIST."
   ]
  },
  {
   "cell_type": "markdown",
   "metadata": {},
   "source": [
    "####  <span style=\"color:red\">**Question 2.1**</span>. Load the Fashion MNIST using Keras datasets\n",
    "\n",
    "<div style=\"text-align: right\"> <span style=\"color:red\">[5 points]</span> </div>\n",
    "\n",
    "We first use keras incoporated in TensorFlow 2.x for loading the training and testing sets."
   ]
  },
  {
   "cell_type": "code",
   "execution_count": 1,
   "metadata": {},
   "outputs": [],
   "source": [
    "import tensorflow as tf\n",
    "from tensorflow import keras"
   ]
  },
  {
   "cell_type": "markdown",
   "metadata": {},
   "source": [
    "We first use keras datasets in TF 2.x to load Fashion MNIST dataset."
   ]
  },
  {
   "cell_type": "code",
   "execution_count": 2,
   "metadata": {},
   "outputs": [],
   "source": [
    "fashion_mnist = keras.datasets.fashion_mnist\n",
    "(X_train_full_img, y_train_full), (X_test_img, y_test) = #Insert your code here"
   ]
  },
  {
   "cell_type": "markdown",
   "metadata": {},
   "source": [
    "The shape of X_train_full_img is $(60000, 28, 28 )$ and that of X_test_img is $(10000, 28, 28)$. We next convert them to matrices of vectors and store in X_train_full and X_test."
   ]
  },
  {
   "cell_type": "code",
   "execution_count": 3,
   "metadata": {},
   "outputs": [
    {
     "name": "stdout",
     "output_type": "stream",
     "text": [
      "(60000, 784) (60000,)\n",
      "(10000, 784) (10000,)\n"
     ]
    }
   ],
   "source": [
    "num_train = X_train_full_img.shape[0]\n",
    "num_test = X_test_img.shape[0]\n",
    "X_train_full =  #Insert your code here\n",
    "X_test =    #Insert your code here\n",
    "print(X_train_full.shape, y_train_full.shape)\n",
    "print(X_test.shape, y_test.shape)"
   ]
  },
  {
   "cell_type": "markdown",
   "metadata": {},
   "source": [
    "####  <span style=\"color:red\">**Question 2.2**</span>. Preprocess the dataset and split into training, validation, and testing datasets\n",
    "\n",
    "You need to write the code to address the following requirements:\n",
    "- Print out the dimensions of X_train_full and X_test\n",
    "- Use $10 \\%$ of X_train_full for validation and the rest of X_train_full for training. This splits X_train_full and y_train_full into X_train, y_train ($90 \\%$) and X_valid, y_valid ($10 \\%$).\n",
    "- Finally, scale the piels of X_train, X_valid, and X_test to $[0,1]$) (i.e., $X = X/255.0$).\n",
    "\n",
    "You have now the separate training, validation, and testing sets for training your model.\n"
   ]
  },
  {
   "cell_type": "code",
   "execution_count": 4,
   "metadata": {},
   "outputs": [],
   "source": [
    "import math\n",
    "N = X_train_full.shape[0]\n",
    "i = math.floor(0.9*N)\n",
    "X_train, y_train = #Insert your code here\n",
    "X_valid, y_valid = #Insert your code here\n",
    "X_train, X_valid, X_test = #Insert your code here"
   ]
  },
  {
   "cell_type": "markdown",
   "metadata": {},
   "source": [
    "####  <span style=\"color:red\">**Question 2.3**</span>. Visualize some images in the training set with labels\n",
    "\n",
    "<div style=\"text-align: right\"> <span style=\"color:red\">[5 points]</span> </div>\n",
    "\n",
    "You are required to write the code to show the first $36$ images in X_train_full_img (which is an array of images) with labels as shown in the following figure. Note that the class names of Fashion MNIST are as follows \n",
    "- \"T-shirt/top\", \"Trouser\", \"Pullover\", \"Dress\", \"Coat\", \"Sandal\", \"Shirt\", \"Sneaker\", \"Bag\", \"Ankle boot\"\n",
    "\n",
    "<img src=\"Figures/Fashion_MNIST.png\" width=\"350\" align=\"center\"/>"
   ]
  },
  {
   "cell_type": "code",
   "execution_count": 5,
   "metadata": {},
   "outputs": [],
   "source": [
    "import matplotlib.pyplot as plt\n",
    "%matplotlib inline"
   ]
  },
  {
   "cell_type": "code",
   "execution_count": 6,
   "metadata": {},
   "outputs": [],
   "source": [
    "# YOU ARE REQUIRED TO INSERT YOUR CODES IN THIS CELL\n",
    "class_names = [\"T-shirt/top\", \"Trouser\", \"Pullover\", \"Dress\", \"Coat\", \"Sandal\", \"Shirt\", \"Sneaker\", \"Bag\", \"Ankle boot\"]\n",
    "\n"
   ]
  },
  {
   "cell_type": "markdown",
   "metadata": {},
   "source": [
    "####  <span style=\"color:red\">**Question 2.4**</span>. Write code for the dense layer\n",
    "\n",
    "<div style=\"text-align: right\"> <span style=\"color:red\">[5 points]</span> </div>"
   ]
  },
  {
   "cell_type": "markdown",
   "metadata": {},
   "source": [
    "We now develop a feed-forward neural networks with the architecture $784 \\rightarrow 20(ReLU) \\rightarrow 25(ReLU) \\rightarrow 10(softmax)$. We first declare the code for the hidden layer with a linear operation and activation. Since we are implementing using TF 1.x syntax, we first import the compatible version of TF 1.x in TF 2.x."
   ]
  },
  {
   "cell_type": "code",
   "execution_count": 8,
   "metadata": {},
   "outputs": [
    {
     "name": "stdout",
     "output_type": "stream",
     "text": [
      "WARNING:tensorflow:From C:\\Users\\trungle\\anaconda3\\envs\\tf2_cpu\\lib\\site-packages\\tensorflow_core\\python\\compat\\v2_compat.py:88: disable_resource_variables (from tensorflow.python.ops.variable_scope) is deprecated and will be removed in a future version.\n",
      "Instructions for updating:\n",
      "non-resource variables are not supported in the long term\n"
     ]
    }
   ],
   "source": [
    "import tensorflow.compat.v1 as tf\n",
    "tf.disable_v2_behavior()"
   ]
  },
  {
   "cell_type": "code",
   "execution_count": 9,
   "metadata": {},
   "outputs": [],
   "source": [
    "# YOU ARE REQUIRED TO INSERT YOUR CODES IN THIS CELL [3 marks]\n",
    "import numpy as np\n",
    "\n",
    "def dense_layer(x, num_neurons, name, activation=None):\n",
    "    with tf.name_scope(name):\n",
    "        num_inputs = int(x.get_shape()[1])\n",
    "        stddev = 2 / np.sqrt(num_inputs)\n",
    "        init = tf.truncated_normal([num_inputs, num_neurons], stddev=stddev)\n",
    "        W = #Insert your code here\n",
    "        b = #Insert your code here\n",
    "        z = #Insert your code here\n",
    "    if activation == \"sigmoid\":\n",
    "        return #Insert your code here\n",
    "    elif activation == \"relu\":\n",
    "        return #Insert your code here\n",
    "    else:\n",
    "        return z"
   ]
  },
  {
   "cell_type": "markdown",
   "metadata": {},
   "source": [
    "####  <span style=\"color:red\">**Question 2.5**</span>. Declare your network and visualize quantities of interest using TensorBoard\n",
    "\n",
    "<div style=\"text-align: right\"> <span style=\"color:red\">[5 points]</span> </div>\n",
    "\n",
    "It is the time to implement your network with the architecture $729 \\rightarrow 20(ReLU) \\rightarrow 25(ReLU) \\rightarrow 10(softmax)$. Note that we need to store and visualize the following quantities using TensorBoard:\n",
    "- Gradients of trainable variables (weight matrices and biases) (Hint: use method `compute_gradients` with respect to the loss function). \n",
    "- Hidden layers 1 and 2."
   ]
  },
  {
   "cell_type": "code",
   "execution_count": 10,
   "metadata": {},
   "outputs": [],
   "source": [
    "num_hidden1 = 20\n",
    "num_hidden2 = 25\n",
    "num_outputs = 10\n",
    "num_inputs = 784  #28 x 28"
   ]
  },
  {
   "cell_type": "markdown",
   "metadata": {},
   "source": [
    "*Run the following cell to create necessary subfolders for this assignment. You must **not** modify these codes and **must** run it first*."
   ]
  },
  {
   "cell_type": "code",
   "execution_count": 11,
   "metadata": {},
   "outputs": [],
   "source": [
    "# Create necessary subfolders to store immediate files for this assignment.\n",
    "\n",
    "import os\n",
    "if not os.path.exists(\"./models/dnn0\"):\n",
    "    os.makedirs(\"models/dnn0\")"
   ]
  },
  {
   "cell_type": "code",
   "execution_count": 12,
   "metadata": {},
   "outputs": [],
   "source": [
    "inputs = tf.placeholder(tf.float32, shape=[None, num_inputs], name=\"inputs\") \n",
    "labels = tf.placeholder(tf.int32, shape=[None], name=\"labels\") \n",
    "\n",
    "with tf.name_scope(\"dnn\"):\n",
    "    hidden1 = #Insert your code here\n",
    "    hidden2 = #Insert your code here\n",
    "    logits = #Insert your code here\n",
    "    \n",
    "with tf.name_scope(\"loss\"):\n",
    "    xentropy = #Insert your code here\n",
    "    loss = tf.reduce_mean(xentropy, name=\"loss\")\n",
    "    \n",
    "with tf.name_scope(\"evaluation\"):\n",
    "    correct =  #Insert your code here\n",
    "    accuracy = #Insert your code here\n",
    "    \n",
    "with tf.name_scope(\"train\"):\n",
    "    learning_rate = 0.001\n",
    "    optimizer = #Insert your code here\n",
    "    grads = optimizer.compute_gradients(loss)\n",
    "    training_op = optimizer.apply_gradients(grads)\n",
    "    \n",
    "    for var in tf.trainable_variables():\n",
    "        tf.summary.histogram(var.op.name + \"/values\", var)\n",
    "        \n",
    "    for grad, var in grads:\n",
    "        if grad is not None:\n",
    "            tf.summary.histogram(var.op.name + \"/gradients\", grad)\n",
    "\n",
    "# summary\n",
    "accuracy_summary = #Insert your code here\n"
   ]
  },
  {
   "cell_type": "code",
   "execution_count": 13,
   "metadata": {},
   "outputs": [],
   "source": [
    "# YOU ARE REQUIRED TO INSERT YOUR CODES IN THIS CELL [5 marks]\n",
    "\n",
    "# merge all summary\n",
    "tf.summary.histogram('hidden1/activations', hidden1)\n",
    "tf.summary.histogram('hidden2/activations', hidden2)\n",
    "merged = #Insert your code here\n",
    "\n",
    "init = tf.global_variables_initializer()\n",
    "saver = #Insert your code here\n",
    "\n",
    "train_writer = tf.summary.FileWriter(\"models/dnn0/train\", tf.get_default_graph())\n",
    "test_writer = tf.summary.FileWriter(\"models/dnn0/test\", tf.get_default_graph())\n",
    "\n",
    "num_epochs = 50\n",
    "batch_size = 128"
   ]
  },
  {
   "cell_type": "markdown",
   "metadata": {},
   "source": [
    "####  <span style=\"color:red\">**Question 2.6**</span>. Train your network and report the resutls, and inspect the computational graph and visualize the gradients, hidden layers 1,2\n",
    "\n",
    "<div style=\"text-align: right\"> <span style=\"color:red\">[5 points]</span> </div>\n"
   ]
  },
  {
   "cell_type": "markdown",
   "metadata": {},
   "source": [
    "The **first** part of this sub-question requires you to write codes in the following cell."
   ]
  },
  {
   "cell_type": "code",
   "execution_count": 16,
   "metadata": {},
   "outputs": [
    {
     "name": "stdout",
     "output_type": "stream",
     "text": [
      "Epoch\tTrain accuracy\tValid accuracy\n",
      "0\t0.26690739393234253\t0.2626666724681854\n",
      "1\t0.38544443249702454\t0.3853333294391632\n",
      "2\t0.47074073553085327\t0.4754999876022339\n",
      "3\t0.5804629921913147\t0.590666651725769\n",
      "4\t0.6483518481254578\t0.6598333120346069\n",
      "5\t0.6722777485847473\t0.6826666593551636\n",
      "6\t0.6894814968109131\t0.6980000138282776\n",
      "7\t0.7045000195503235\t0.7120000123977661\n",
      "8\t0.7173333168029785\t0.7245000004768372\n",
      "9\t0.728092610836029\t0.734333336353302\n",
      "10\t0.7365555763244629\t0.7433333396911621\n",
      "11\t0.7438889145851135\t0.7506666779518127\n",
      "12\t0.7511110901832581\t0.7574999928474426\n",
      "13\t0.7570000290870667\t0.7613333463668823\n",
      "14\t0.7624815106391907\t0.7641666531562805\n",
      "15\t0.7672222256660461\t0.7703333497047424\n",
      "16\t0.7713888883590698\t0.7739999890327454\n",
      "17\t0.7760740518569946\t0.7773333191871643\n",
      "18\t0.7795740962028503\t0.7818333506584167\n",
      "19\t0.782444417476654\t0.7850000262260437\n",
      "20\t0.7862592339515686\t0.7875000238418579\n",
      "21\t0.7887407541275024\t0.7896666526794434\n",
      "22\t0.7908703684806824\t0.7921666502952576\n",
      "23\t0.7932962775230408\t0.7953333258628845\n",
      "24\t0.7952222228050232\t0.7976666688919067\n",
      "25\t0.797092616558075\t0.7996666431427002\n",
      "26\t0.7992963194847107\t0.8004999756813049\n",
      "27\t0.8007037043571472\t0.8021666407585144\n",
      "28\t0.8019074201583862\t0.8028333187103271\n",
      "29\t0.8037962913513184\t0.8033333420753479\n",
      "30\t0.8051481246948242\t0.8044999837875366\n",
      "31\t0.8064629435539246\t0.8065000176429749\n",
      "32\t0.8074073791503906\t0.8083333373069763\n",
      "33\t0.8089073896408081\t0.8106666803359985\n",
      "34\t0.8101111054420471\t0.8119999766349792\n",
      "35\t0.8113333582878113\t0.8125\n",
      "36\t0.8124629855155945\t0.8134999871253967\n",
      "37\t0.8133518695831299\t0.8141666650772095\n",
      "38\t0.8145925998687744\t0.815666675567627\n",
      "39\t0.8155925869941711\t0.8169999718666077\n",
      "40\t0.8166666626930237\t0.8180000185966492\n",
      "41\t0.8175555467605591\t0.8181666731834412\n",
      "42\t0.8183518648147583\t0.8183333277702332\n",
      "43\t0.8190555572509766\t0.8186666369438171\n",
      "44\t0.819944441318512\t0.8196666836738586\n",
      "45\t0.8202962875366211\t0.8211666941642761\n",
      "46\t0.8207592368125916\t0.8218333125114441\n",
      "47\t0.8213889002799988\t0.8221666812896729\n",
      "48\t0.8220740556716919\t0.8228333592414856\n",
      "49\t0.8227777481079102\t0.8231666684150696\n"
     ]
    }
   ],
   "source": [
    "# YOU ARE REQUIRED TO INSERT YOUR CODES IN THIS CELL\n",
    "\n",
    "with tf.Session() as sess:\n",
    "    init.run()\n",
    "    print(\"Epoch\\tTrain accuracy\\tValid accuracy\")\n",
    "    for epoch in range(num_epochs):\n",
    "        for idx_start in range(0, X_train.shape[0], batch_size):\n",
    "            idx_end = #Insert your code here\n",
    "            X_batch, y_batch = #Insert your code here\n",
    "            sess.run(training_op, feed_dict={inputs: X_batch, labels: y_batch})\n",
    "            \n",
    "        summary_train, acc_train = #Insert your code here\n",
    "        summary_valid, acc_valid = #Insert your code here\n",
    "        \n",
    "        train_writer.add_summary(summary_train, epoch)\n",
    "        test_writer.add_summary(summary_valid, epoch)\n",
    "        \n",
    "        print(\"{}\\t{}\\t{}\".format(epoch, acc_train, acc_valid))\n",
    "\n",
    "    save_path = saver.save(sess, \"models/dnn0.ckpt\")"
   ]
  },
  {
   "cell_type": "markdown",
   "metadata": {},
   "source": [
    "The **second** part of this subquestion requires you use the Tensorboard, find out relevant visualizations and input them into the markdown cell below. (***Hint***: A software to capture the screen such as *Snipping Tools* in *Windows* may help)."
   ]
  },
  {
   "cell_type": "markdown",
   "metadata": {},
   "source": [
    "<span style=\"color:red\">**YOU ARE REQUIRED TO INSERT YOUR OWN GRAPHICS IN THIS MARKDOWN CELL**</span>\n",
    "\n",
    "* **Hidden activations**: \n",
    "\n",
    "First hidden layer | Second hidden layer\n",
    ":-: | :-:\n",
    "[insert your visualization here] | [insert your visualization here]\n",
    " \n",
    "* **Parameter gradients**: \n",
    "\n",
    "First weight layer | Second weight layer | Last weight layer\n",
    ":-: | :-: | :-:\n",
    "[insert your visualization here] | [insert your visualization here] | [insert your visualization here]"
   ]
  },
  {
   "cell_type": "markdown",
   "metadata": {},
   "source": [
    "## <span style=\"color:#0b486b\">Part 3: Convolutional Neural Networks and Image Classification</span>\n",
    "\n",
    "**<div style=\"text-align: right\"><span style=\"color:red\">[Total marks for this part: 30 points]</span></div>**"
   ]
  },
  {
   "cell_type": "markdown",
   "metadata": {},
   "source": [
    "**This part of the asssignment is designed to access your knowledge and coding skill with Tensorflow as well as hands-on experience with training Convolutional Neural Network (CNN).**"
   ]
  },
  {
   "cell_type": "markdown",
   "metadata": {},
   "source": [
    "**The dataset we use for this part is a small animal dataset consisting of $2000$ images of cats, dogs, fishes and lions, each of which has 500 images. **You can download the dataset at [download here](https://drive.google.com/file/d/1t5b-pNMK5-uIK6wZIIHBluLY7tPK0JzV/view?usp=sharing) and then decompress to the folder the folder `datasets\\Animals` for you in the assignment folder.**\n",
    "\n",
    "**Your task is to build a CNN model using *TF 2.x* to classify these animals. You're provided with the module <span style=\"color:red\">models.py</span>, which you can find in the assignment folder, with some of the following classes:**"
   ]
  },
  {
   "cell_type": "markdown",
   "metadata": {},
   "source": [
    "1. `AnimalsDatasetManager`: Support with loading and spliting the dataset into the train-val-test sets. It also help generate next batches for training. `AnimalsDatasetManager` will be passed to CNN model for training and testing.\n",
    "2. `Layers`: A class providing some static method to create basic CNN layers.\n",
    "3. `DefaultModel`: A base class for the CNN model.\n",
    "4. `YourModel`: The class you'll need to implement to build the CNN model. It inherits some useful attributes and functions from the base class `DefaultModel`"
   ]
  },
  {
   "cell_type": "markdown",
   "metadata": {},
   "source": [
    "Firstly, we need to run the following cells to load and preprocess the Animal dataset."
   ]
  },
  {
   "cell_type": "code",
   "execution_count": 161,
   "metadata": {},
   "outputs": [
    {
     "name": "stdout",
     "output_type": "stream",
     "text": [
      "The autoreload extension is already loaded. To reload it, use:\n",
      "  %reload_ext autoreload\n"
     ]
    }
   ],
   "source": [
    "%load_ext autoreload\n",
    "%autoreload 2"
   ]
  },
  {
   "cell_type": "code",
   "execution_count": 162,
   "metadata": {},
   "outputs": [],
   "source": [
    "import os\n",
    "import matplotlib.pyplot as plt\n",
    "plt.style.use('ggplot')\n",
    "%matplotlib inline\n",
    "import models\n",
    "from models import SimplePreprocessor, AnimalsDatasetManager, DefaultModel"
   ]
  },
  {
   "cell_type": "code",
   "execution_count": 163,
   "metadata": {},
   "outputs": [],
   "source": [
    "def create_label_folder_dict(adir):\n",
    "    sub_folders= [folder for folder in os.listdir(adir)\n",
    "                  if os.path.isdir(os.path.join(adir, folder))]\n",
    "    label_folder_dict= dict()\n",
    "    for folder in sub_folders:\n",
    "        item= {folder: os.path.abspath(os.path.join(adir, folder))}\n",
    "        label_folder_dict.update(item)\n",
    "    return label_folder_dict"
   ]
  },
  {
   "cell_type": "code",
   "execution_count": 164,
   "metadata": {},
   "outputs": [],
   "source": [
    "label_folder_dict= create_label_folder_dict(\"./datasets/Animals\")"
   ]
  },
  {
   "cell_type": "markdown",
   "metadata": {},
   "source": [
    "The below code helps to create a data manager that contains all relevant methods used to manage and process our experimental data. "
   ]
  },
  {
   "cell_type": "code",
   "execution_count": 165,
   "metadata": {},
   "outputs": [
    {
     "name": "stdout",
     "output_type": "stream",
     "text": [
      "cats 12500\n",
      "Processed 100/500\n",
      "Processed 200/500\n",
      "Processed 300/500\n",
      "Processed 400/500\n",
      "Processed 500/500\n",
      "dogs 12500\n",
      "Processed 100/500\n",
      "Processed 200/500\n",
      "Processed 300/500\n",
      "Processed 400/500\n",
      "Processed 500/500\n",
      "fishes 500\n",
      "Processed 100/500\n",
      "Processed 200/500\n",
      "Processed 300/500\n",
      "Processed 400/500\n",
      "Processed 500/500\n",
      "lions 500\n",
      "Processed 100/500\n",
      "Processed 200/500\n",
      "Processed 300/500\n",
      "Processed 400/500\n",
      "Processed 500/500\n"
     ]
    }
   ],
   "source": [
    "sp = SimplePreprocessor(width=32, height=32)\n",
    "data_manager = AnimalsDatasetManager([sp])\n",
    "data_manager.load(label_folder_dict, verbose=100)\n",
    "data_manager.process_data_label()\n",
    "data_manager.train_valid_test_split()"
   ]
  },
  {
   "cell_type": "markdown",
   "metadata": {},
   "source": [
    "Note that the object `data_manager` has the attributes relating to *the training, validation, and testing sets* as shown belows. You can use them in training your developped models in the sequel."
   ]
  },
  {
   "cell_type": "code",
   "execution_count": 31,
   "metadata": {},
   "outputs": [
    {
     "name": "stdout",
     "output_type": "stream",
     "text": [
      "(1600, 32, 32, 3) (1600,)\n",
      "(200, 32, 32, 3) (200,)\n",
      "(200, 32, 32, 3) (200,)\n",
      "['cats' 'dogs' 'fishes' 'lions']\n"
     ]
    }
   ],
   "source": [
    "print(data_manager.X_train.shape, data_manager.y_train.shape)\n",
    "print(data_manager.X_valid.shape, data_manager.y_valid.shape)\n",
    "print(data_manager.X_test.shape, data_manager.y_test.shape)\n",
    "print(data_manager.classes)"
   ]
  },
  {
   "cell_type": "markdown",
   "metadata": {},
   "source": [
    "We now run the **default model** built in the **models.py** file which serves as a basic baseline to start the investigation. Follow the following steps to realize how to run a model and know the built-in methods associated to a model developped in the DefaultModel class."
   ]
  },
  {
   "cell_type": "markdown",
   "metadata": {},
   "source": [
    "We first initialize a default model from the DefaultModel class. Basically, we can define the relevant parameters of training a model including `num_classes`, `optimizer`, `learning_rate`, `batch_size`, and `num_epochs`."
   ]
  },
  {
   "cell_type": "code",
   "execution_count": 166,
   "metadata": {},
   "outputs": [],
   "source": [
    "network1 = DefaultModel(name='network1',\n",
    "                       num_classes=len(data_manager.classes),\n",
    "                       optimizer='sgd',\n",
    "                       batch_size= 128,\n",
    "                       num_epochs = 20,\n",
    "                       learning_rate=0.5)"
   ]
  },
  {
   "cell_type": "markdown",
   "metadata": {},
   "source": [
    "The method `build_cnn()` assists us in building your convolutional neural network. You can view the code (in the **models.py** file) of the model behind a default model to realize how simple it is. Additionally, the method `summary()` shows the architecture of a model."
   ]
  },
  {
   "cell_type": "code",
   "execution_count": 167,
   "metadata": {},
   "outputs": [
    {
     "name": "stdout",
     "output_type": "stream",
     "text": [
      "Model: \"sequential_32\"\n",
      "_________________________________________________________________\n",
      "Layer (type)                 Output Shape              Param #   \n",
      "=================================================================\n",
      "conv2d_157 (Conv2D)          (None, 32, 32, 32)        896       \n",
      "_________________________________________________________________\n",
      "conv2d_158 (Conv2D)          (None, 32, 32, 32)        9248      \n",
      "_________________________________________________________________\n",
      "average_pooling2d_78 (Averag (None, 16, 16, 32)        0         \n",
      "_________________________________________________________________\n",
      "conv2d_159 (Conv2D)          (None, 16, 16, 64)        18496     \n",
      "_________________________________________________________________\n",
      "conv2d_160 (Conv2D)          (None, 16, 16, 64)        36928     \n",
      "_________________________________________________________________\n",
      "average_pooling2d_79 (Averag (None, 8, 8, 64)          0         \n",
      "_________________________________________________________________\n",
      "flatten_24 (Flatten)         (None, 4096)              0         \n",
      "_________________________________________________________________\n",
      "dense_24 (Dense)             (None, 4)                 16388     \n",
      "=================================================================\n",
      "Total params: 81,956\n",
      "Trainable params: 81,956\n",
      "Non-trainable params: 0\n",
      "_________________________________________________________________\n",
      "None\n"
     ]
    }
   ],
   "source": [
    "network1.build_cnn()\n",
    "network1.summary()"
   ]
  },
  {
   "cell_type": "markdown",
   "metadata": {},
   "source": [
    "To train a model regarding to the datasets stored in `data_manager`, you can invoke the method `fit()` for which you can specify the batch size and number of epochs for your training. "
   ]
  },
  {
   "cell_type": "code",
   "execution_count": 168,
   "metadata": {},
   "outputs": [
    {
     "name": "stdout",
     "output_type": "stream",
     "text": [
      "Train on 1600 samples, validate on 200 samples\n",
      "Epoch 1/20\n",
      "1600/1600 [==============================] - 4s 2ms/sample - loss: 1.4154 - accuracy: 0.2637 - val_loss: 1.3701 - val_accuracy: 0.3000\n",
      "Epoch 2/20\n",
      "1600/1600 [==============================] - 3s 2ms/sample - loss: 1.4048 - accuracy: 0.2669 - val_loss: 1.3881 - val_accuracy: 0.2550\n",
      "Epoch 3/20\n",
      "1600/1600 [==============================] - 3s 2ms/sample - loss: 1.3715 - accuracy: 0.3150 - val_loss: 2.3615 - val_accuracy: 0.2250\n",
      "Epoch 4/20\n",
      "1600/1600 [==============================] - 4s 3ms/sample - loss: 1.4370 - accuracy: 0.2806 - val_loss: 1.3946 - val_accuracy: 0.2000\n",
      "Epoch 5/20\n",
      "1600/1600 [==============================] - 4s 2ms/sample - loss: 1.3859 - accuracy: 0.2556 - val_loss: 1.3854 - val_accuracy: 0.2850\n",
      "Epoch 6/20\n",
      "1600/1600 [==============================] - 4s 2ms/sample - loss: 1.3883 - accuracy: 0.2356 - val_loss: 1.3871 - val_accuracy: 0.2000\n",
      "Epoch 7/20\n",
      "1600/1600 [==============================] - 3s 2ms/sample - loss: 1.3887 - accuracy: 0.2231 - val_loss: 1.3860 - val_accuracy: 0.2950\n",
      "Epoch 8/20\n",
      "1600/1600 [==============================] - 4s 3ms/sample - loss: 1.3874 - accuracy: 0.2600 - val_loss: 1.3813 - val_accuracy: 0.2950\n",
      "Epoch 9/20\n",
      "1600/1600 [==============================] - 4s 2ms/sample - loss: 1.3896 - accuracy: 0.2350 - val_loss: 1.3876 - val_accuracy: 0.2950\n",
      "Epoch 10/20\n",
      "1600/1600 [==============================] - 3s 2ms/sample - loss: 1.3883 - accuracy: 0.2425 - val_loss: 1.3919 - val_accuracy: 0.2000\n",
      "Epoch 11/20\n",
      "1600/1600 [==============================] - 3s 2ms/sample - loss: 1.3878 - accuracy: 0.2587 - val_loss: 1.3793 - val_accuracy: 0.2850\n",
      "Epoch 12/20\n",
      "1600/1600 [==============================] - 3s 2ms/sample - loss: 1.3884 - accuracy: 0.2531 - val_loss: 1.3858 - val_accuracy: 0.2200\n",
      "Epoch 13/20\n",
      "1600/1600 [==============================] - 3s 2ms/sample - loss: 1.3885 - accuracy: 0.2406 - val_loss: 1.3916 - val_accuracy: 0.2000\n",
      "Epoch 14/20\n",
      "1600/1600 [==============================] - 3s 2ms/sample - loss: 1.3879 - accuracy: 0.2431 - val_loss: 1.3852 - val_accuracy: 0.2950\n",
      "Epoch 15/20\n",
      "1600/1600 [==============================] - 3s 2ms/sample - loss: 1.3878 - accuracy: 0.2481 - val_loss: 1.3916 - val_accuracy: 0.2200\n",
      "Epoch 16/20\n",
      "1600/1600 [==============================] - 3s 2ms/sample - loss: 1.3881 - accuracy: 0.2519 - val_loss: 1.3921 - val_accuracy: 0.2000\n",
      "Epoch 17/20\n",
      "1600/1600 [==============================] - 3s 2ms/sample - loss: 1.3890 - accuracy: 0.2325 - val_loss: 1.3884 - val_accuracy: 0.2000\n",
      "Epoch 18/20\n",
      "1600/1600 [==============================] - 3s 2ms/sample - loss: 1.3884 - accuracy: 0.2431 - val_loss: 1.3894 - val_accuracy: 0.2200\n",
      "Epoch 19/20\n",
      "1600/1600 [==============================] - 3s 2ms/sample - loss: 1.3883 - accuracy: 0.2569 - val_loss: 1.3916 - val_accuracy: 0.2000\n",
      "Epoch 20/20\n",
      "1600/1600 [==============================] - 3s 2ms/sample - loss: 1.3885 - accuracy: 0.2338 - val_loss: 1.3925 - val_accuracy: 0.2000\n"
     ]
    }
   ],
   "source": [
    "network1.fit(data_manager, batch_size = 64, num_epochs = 20)"
   ]
  },
  {
   "cell_type": "markdown",
   "metadata": {},
   "source": [
    "Here you can compute the accuracy of your trained model with respect to a separate testing set."
   ]
  },
  {
   "cell_type": "code",
   "execution_count": 169,
   "metadata": {},
   "outputs": [
    {
     "name": "stdout",
     "output_type": "stream",
     "text": [
      "200/200 [==============================] - 0s 793us/sample - loss: 1.3865 - accuracy: 0.2450\n"
     ]
    },
    {
     "data": {
      "text/plain": [
       "0.245"
      ]
     },
     "execution_count": 169,
     "metadata": {},
     "output_type": "execute_result"
    }
   ],
   "source": [
    "network1.compute_accuracy(data_manager.X_test, data_manager.y_test)"
   ]
  },
  {
   "cell_type": "markdown",
   "metadata": {},
   "source": [
    "Below shows how you can inspect the training progress."
   ]
  },
  {
   "cell_type": "code",
   "execution_count": 170,
   "metadata": {},
   "outputs": [
    {
     "data": {
      "image/png": "[encoded data removed]",
      "text/plain": [
       "<Figure size 576x360 with 1 Axes>"
      ]
     },
     "metadata": {
      "needs_background": "light"
     },
     "output_type": "display_data"
    }
   ],
   "source": [
    "network1.plot_progress()"
   ]
  },
  {
   "cell_type": "markdown",
   "metadata": {},
   "source": [
    "You can use the method `predict()` to predict labels for data examples in a test set."
   ]
  },
  {
   "cell_type": "code",
   "execution_count": 171,
   "metadata": {},
   "outputs": [
    {
     "data": {
      "text/plain": [
       "array([3, 3, 3, 3, 3, 3, 3, 3, 3, 3], dtype=int64)"
      ]
     },
     "execution_count": 171,
     "metadata": {},
     "output_type": "execute_result"
    }
   ],
   "source": [
    "network1.predict(data_manager.X_test[0:10])"
   ]
  },
  {
   "cell_type": "markdown",
   "metadata": {},
   "source": [
    "Finally, the method `plot_prediction()` visualizes the predictions for a test set in which several images are chosen to show the predictions."
   ]
  },
  {
   "cell_type": "code",
   "execution_count": 172,
   "metadata": {},
   "outputs": [
    {
     "data": {
      "text/plain": [
       "<Figure size 432x288 with 0 Axes>"
      ]
     },
     "metadata": {},
     "output_type": "display_data"
    },
    {
     "data": {
      "image/png": "[encoded data removed]",
      "text/plain": [
       "<Figure size 720x720 with 25 Axes>"
      ]
     },
     "metadata": {
      "needs_background": "light"
     },
     "output_type": "display_data"
    }
   ],
   "source": [
    "network1.plot_prediction(data_manager.X_test, data_manager.y_test, data_manager.classes)"
   ]
  },
  {
   "cell_type": "markdown",
   "metadata": {},
   "source": [
    "<span style=\"color:red\">**Question 3.1**</span> **After running the above cells to train the default model and observe the learning curve. Report your observation (i.e. did the model learn well? if not, what is the problem? what would you do to improve it?). Write your answer below.**\n",
    "\n",
    "<div style=\"text-align: right\"> <span style=\"color:red\">[5 points]</span> </div>"
   ]
  },
  {
   "cell_type": "markdown",
   "metadata": {},
   "source": [
    "*#Your answer and observation here*\n",
    "\n",
    ".....\n",
    "\n"
   ]
  },
  {
   "cell_type": "markdown",
   "metadata": {},
   "source": [
    "<span style=\"color:red\">**Question 3.2**</span> **Normally the first parameter to tune in Deep Learning is learning rate. In this question, you'll try running the default model with different learning rates (recommended in the list $[0.0001, 0.001, 0.005, 0.01]$) by entering the value in the cell below and run it. You should write your own code below for this learning rate tuning. Note that you can set the attribute `verbose` of the `DefaultModel` class to `False` for keeping the training silently without showing its details. Report the learning rates you tried along with the validation accuracy for each learning rate. What is the final learning rate that you'll use? Why?.**\n",
    "   \n",
    "<div style=\"text-align: right\"> <span style=\"color:red\">[5 points]</span> </div>"
   ]
  },
  {
   "cell_type": "code",
   "execution_count": null,
   "metadata": {},
   "outputs": [],
   "source": [
    "#Write your code for tuning here\n",
    "\n"
   ]
  },
  {
   "cell_type": "markdown",
   "metadata": {},
   "source": [
    "*#Your answer and observation here*\n",
    "\n",
    ".....\n",
    "\n",
    "\n"
   ]
  },
  {
   "cell_type": "markdown",
   "metadata": {},
   "source": [
    "**For question 3.3 to 3.6, you'll need to write your own model in a way that makes it easy for you to experiment with different architectures as well as parameters. The goal is to be able to pass the parameters to initialize a new instance of `YourModel` to build different network architectures with different parameters. Below are descriptions of some parameters for `YourModel`, which you can find in function `__init__()` for the class `DefaultModel`:**"
   ]
  },
  {
   "cell_type": "markdown",
   "metadata": {},
   "source": [
    "1. `num_blocks`: an integer specifying the number of blocks in our network. Each block has the pattern `[conv, batch norm, activation, conv, batch norm, activation, mean pool, dropout]`. All convolutional layers have filter size $(3, 3)$, strides $(1, 1)$ and 'SAME' padding, and all mean pool layers have strides $(2, 2)$ and 'SAME' padding. The network will consists of a few blocks before applying a linear layer to output the logits for the softmax layer.\n",
    "\n",
    "2. `feature_maps`: the number of feature maps in the first block of the network. The number of feature_maps will double in each of the following block. To make it convenient for you, we already calculated the number of feature maps for each block for you in line $106$\n",
    "3. `drop_rate`: the keep probability for dropout. Setting `drop_rate` to $0.0$ means not using dropout. \n",
    "4. `batch_norm`: the batch normalization function is used or not. Setting `batch_norm` to `None` means not using batch normalization. "
   ]
  },
  {
   "cell_type": "code",
   "execution_count": 75,
   "metadata": {},
   "outputs": [],
   "source": [
    "import tensorflow as tf\n",
    "from tensorflow import keras\n",
    "from tensorflow.keras import layers, models"
   ]
  },
  {
   "cell_type": "markdown",
   "metadata": {},
   "source": [
    "<span style=\"color:red\">**Question 3.3**</span> **Write the code of the `YourModel` class here. Note that this class will inherit from the `DefaultModel` class. You'll only need to re-write the code for the `build_cnn` method for the `YourModel` class from the cell below which is inherited from the `DefaultModel` class.**\n",
    "\n",
    "<div style=\"text-align: right\"> <span style=\"color:red\">[5 points]</span> </div>"
   ]
  },
  {
   "cell_type": "code",
   "execution_count": 140,
   "metadata": {},
   "outputs": [],
   "source": [
    "class YourModel(DefaultModel):\n",
    "    def __init__(self,\n",
    "                 name='network1',\n",
    "                 width=32, height=32, depth=3,\n",
    "                 num_blocks=2,\n",
    "                 feature_maps=32,\n",
    "                 num_classes=4, \n",
    "                 drop_rate=0.2,\n",
    "                 batch_norm = None,\n",
    "                 is_augmentation = False,\n",
    "                 activation_func='relu',\n",
    "                 optimizer='adam',\n",
    "                 batch_size=10,\n",
    "                 num_epochs= 20,\n",
    "                 learning_rate=0.0001,\n",
    "                 verbose= True):\n",
    "        super(YourModel, self).__init__(name, width, height, depth, num_blocks, feature_maps, num_classes, drop_rate, batch_norm, is_augmentation, \n",
    "                                        activation_func, optimizer, batch_size, num_epochs, learning_rate, verbose)\n",
    "    \n",
    "    def build_cnn(self):\n",
    "        #Insert your code here"
   ]
  },
  {
   "cell_type": "markdown",
   "metadata": {},
   "source": [
    "<span style=\"color:red\">**Question 3.4**</span> **Once writing your own models, you should be able to use it to experiment with dropout or batch normalization. In this question, you'll use your model to finetune the dropout rate. Report the `drop_rate` rates you tried along with the validation accuracy for each rate (recomended range: 0.2 to 0.5). What is\n",
    "the final `drop_rate` rate that you'll use? Did dropout improve performance? Did it help reduce overfitting? Note that in this experiment, you should set `batch_norm` to `None`, meaning that we do not use the batch normalization.**\n",
    "    \n",
    "<div style=\"text-align: right\"> <span style=\"color:red\">[5 points]</span> </div>"
   ]
  },
  {
   "cell_type": "markdown",
   "metadata": {},
   "source": [
    "#*Write your answer and observation here*\n",
    "\n",
    ".....\n",
    "\n",
    "\n"
   ]
  },
  {
   "cell_type": "code",
   "execution_count": 117,
   "metadata": {},
   "outputs": [
    {
     "name": "stdout",
     "output_type": "stream",
     "text": [
      "Model: \"model_5\"\n",
      "_________________________________________________________________\n",
      "Layer (type)                 Output Shape              Param #   \n",
      "=================================================================\n",
      "input_17 (InputLayer)        [(None, 32, 32, 3)]       0         \n",
      "_________________________________________________________________\n",
      "conv2d_85 (Conv2D)           (None, 32, 32, 32)        896       \n",
      "_________________________________________________________________\n",
      "dropout_84 (Dropout)         (None, 32, 32, 32)        0         \n",
      "_________________________________________________________________\n",
      "conv2d_86 (Conv2D)           (None, 32, 32, 32)        9248      \n",
      "_________________________________________________________________\n",
      "dropout_85 (Dropout)         (None, 32, 32, 32)        0         \n",
      "_________________________________________________________________\n",
      "average_pooling2d_42 (Averag (None, 16, 16, 32)        0         \n",
      "_________________________________________________________________\n",
      "conv2d_87 (Conv2D)           (None, 16, 16, 64)        18496     \n",
      "_________________________________________________________________\n",
      "dropout_86 (Dropout)         (None, 16, 16, 64)        0         \n",
      "_________________________________________________________________\n",
      "conv2d_88 (Conv2D)           (None, 16, 16, 64)        36928     \n",
      "_________________________________________________________________\n",
      "dropout_87 (Dropout)         (None, 16, 16, 64)        0         \n",
      "_________________________________________________________________\n",
      "average_pooling2d_43 (Averag (None, 8, 8, 64)          0         \n",
      "_________________________________________________________________\n",
      "conv2d_89 (Conv2D)           (None, 8, 8, 128)         73856     \n",
      "_________________________________________________________________\n",
      "dropout_88 (Dropout)         (None, 8, 8, 128)         0         \n",
      "_________________________________________________________________\n",
      "conv2d_90 (Conv2D)           (None, 8, 8, 128)         147584    \n",
      "_________________________________________________________________\n",
      "dropout_89 (Dropout)         (None, 8, 8, 128)         0         \n",
      "_________________________________________________________________\n",
      "average_pooling2d_44 (Averag (None, 4, 4, 128)         0         \n",
      "_________________________________________________________________\n",
      "flatten_14 (Flatten)         (None, 2048)              0         \n",
      "_________________________________________________________________\n",
      "dense_14 (Dense)             (None, 4)                 8196      \n",
      "=================================================================\n",
      "Total params: 295,204\n",
      "Trainable params: 295,204\n",
      "Non-trainable params: 0\n",
      "_________________________________________________________________\n",
      "None\n"
     ]
    }
   ],
   "source": [
    "drop_out_network = YourModel(name='network1',\n",
    "                     feature_maps=32,\n",
    "                     num_classes=len(data_manager.classes),\n",
    "                     num_blocks=4,\n",
    "                     drop_rate= ?, # enter your final dropout rate value here\n",
    "                     batch_norm=None,     \n",
    "                     optimizer='adam',\n",
    "                     learning_rate= 0.001)\n",
    "drop_out_network.build_cnn()\n",
    "drop_out_network.summary()"
   ]
  },
  {
   "cell_type": "markdown",
   "metadata": {},
   "source": [
    "<span style=\"color:red\">**Question 3.5**</span> **Now, let's try using batch normalization. What is the validation and test result? Does it improve the model? How does it compare to the model using dropout? To have a fair comparison, in this experiment, we set `drop_rate=0` to not use the dropout.**\n",
    " \n",
    "<div style=\"text-align: right\"> <span style=\"color:red\">[5 points]</span> </div>"
   ]
  },
  {
   "cell_type": "markdown",
   "metadata": {},
   "source": [
    "#*Write your answer and observation here*\n",
    "\n",
    "....."
   ]
  },
  {
   "cell_type": "code",
   "execution_count": 141,
   "metadata": {},
   "outputs": [
    {
     "name": "stdout",
     "output_type": "stream",
     "text": [
      "Model: \"model_11\"\n",
      "_________________________________________________________________\n",
      "Layer (type)                 Output Shape              Param #   \n",
      "=================================================================\n",
      "input_23 (InputLayer)        [(None, 32, 32, 3)]       0         \n",
      "_________________________________________________________________\n",
      "conv2d_125 (Conv2D)          (None, 32, 32, 32)        896       \n",
      "_________________________________________________________________\n",
      "batch_normalization_22 (Batc (None, 32, 32, 32)        128       \n",
      "_________________________________________________________________\n",
      "dropout_124 (Dropout)        (None, 32, 32, 32)        0         \n",
      "_________________________________________________________________\n",
      "conv2d_126 (Conv2D)          (None, 32, 32, 32)        9248      \n",
      "_________________________________________________________________\n",
      "batch_normalization_23 (Batc (None, 32, 32, 32)        128       \n",
      "_________________________________________________________________\n",
      "dropout_125 (Dropout)        (None, 32, 32, 32)        0         \n",
      "_________________________________________________________________\n",
      "average_pooling2d_62 (Averag (None, 16, 16, 32)        0         \n",
      "_________________________________________________________________\n",
      "conv2d_127 (Conv2D)          (None, 16, 16, 64)        18496     \n",
      "_________________________________________________________________\n",
      "batch_normalization_24 (Batc (None, 16, 16, 64)        256       \n",
      "_________________________________________________________________\n",
      "dropout_126 (Dropout)        (None, 16, 16, 64)        0         \n",
      "_________________________________________________________________\n",
      "conv2d_128 (Conv2D)          (None, 16, 16, 64)        36928     \n",
      "_________________________________________________________________\n",
      "batch_normalization_25 (Batc (None, 16, 16, 64)        256       \n",
      "_________________________________________________________________\n",
      "dropout_127 (Dropout)        (None, 16, 16, 64)        0         \n",
      "_________________________________________________________________\n",
      "average_pooling2d_63 (Averag (None, 8, 8, 64)          0         \n",
      "_________________________________________________________________\n",
      "conv2d_129 (Conv2D)          (None, 8, 8, 128)         73856     \n",
      "_________________________________________________________________\n",
      "batch_normalization_26 (Batc (None, 8, 8, 128)         512       \n",
      "_________________________________________________________________\n",
      "dropout_128 (Dropout)        (None, 8, 8, 128)         0         \n",
      "_________________________________________________________________\n",
      "conv2d_130 (Conv2D)          (None, 8, 8, 128)         147584    \n",
      "_________________________________________________________________\n",
      "batch_normalization_27 (Batc (None, 8, 8, 128)         512       \n",
      "_________________________________________________________________\n",
      "dropout_129 (Dropout)        (None, 8, 8, 128)         0         \n",
      "_________________________________________________________________\n",
      "average_pooling2d_64 (Averag (None, 4, 4, 128)         0         \n",
      "_________________________________________________________________\n",
      "conv2d_131 (Conv2D)          (None, 4, 4, 256)         295168    \n",
      "_________________________________________________________________\n",
      "batch_normalization_28 (Batc (None, 4, 4, 256)         1024      \n",
      "_________________________________________________________________\n",
      "dropout_130 (Dropout)        (None, 4, 4, 256)         0         \n",
      "_________________________________________________________________\n",
      "conv2d_132 (Conv2D)          (None, 4, 4, 256)         590080    \n",
      "_________________________________________________________________\n",
      "batch_normalization_29 (Batc (None, 4, 4, 256)         1024      \n",
      "_________________________________________________________________\n",
      "dropout_131 (Dropout)        (None, 4, 4, 256)         0         \n",
      "_________________________________________________________________\n",
      "average_pooling2d_65 (Averag (None, 2, 2, 256)         0         \n",
      "_________________________________________________________________\n",
      "flatten_20 (Flatten)         (None, 1024)              0         \n",
      "_________________________________________________________________\n",
      "dense_20 (Dense)             (None, 4)                 4100      \n",
      "=================================================================\n",
      "Total params: 1,180,196\n",
      "Trainable params: 1,178,276\n",
      "Non-trainable params: 1,920\n",
      "_________________________________________________________________\n",
      "None\n"
     ]
    }
   ],
   "source": [
    "batch_norm_network = YourModel(name='network4',\n",
    "                     feature_maps=32,\n",
    "                     num_classes=len(data_manager.classes),\n",
    "                     num_blocks=4,\n",
    "                     drop_rate= 0, \n",
    "                     batch_norm=True, #do batch norm    \n",
    "                     optimizer='adam',\n",
    "                     learning_rate= 0.001)\n",
    "batch_norm_network.build_cnn()\n",
    "batch_norm_network.summary()"
   ]
  },
  {
   "cell_type": "markdown",
   "metadata": {},
   "source": [
    "<span style=\"color:red\">**Question 3.6**</span> **Finally, you should try to train the best model by trying different configurations for `num_blocks`, `feature_maps`, `optimizer`, `learning_rate`, `batch_size`, `keep_prob` and `batch_norm`. Briefly report the experiments that you try and your observation in the answer below. Also, run the cells below with the best configuration you found.**\n",
    "   \n",
    "<div style=\"text-align: right\"> <span style=\"color:red\">[5 points]</span> </div>"
   ]
  },
  {
   "cell_type": "markdown",
   "metadata": {},
   "source": [
    "#*Write your answer and discussion here*\n",
    "\n",
    "......"
   ]
  },
  {
   "cell_type": "markdown",
   "metadata": {},
   "source": [
    "<span style=\"color:red\">**Question 3.7**</span> **We now try to apply data augmentation to improve the performance. Extend the code of the class `YourModel` so that if the attribute `is_augmentation` is set to `True`, we apply the data augmentation.**\n",
    "   \n",
    "<div style=\"text-align: right\"> <span style=\"color:red\">[5 points]</span> </div>"
   ]
  },
  {
   "cell_type": "code",
   "execution_count": 147,
   "metadata": {},
   "outputs": [],
   "source": [
    "from keras.preprocessing.image import ImageDataGenerator"
   ]
  },
  {
   "cell_type": "markdown",
   "metadata": {},
   "source": [
    "Wtire your code in the cell below. Hint that you can rewrite the code of `fit` method to apply the data augmentation. In addition, you can copy the code of `build_cnn` method above to reuse here."
   ]
  },
  {
   "cell_type": "code",
   "execution_count": 156,
   "metadata": {},
   "outputs": [],
   "source": [
    "class YourModel(DefaultModel):\n",
    "    def __init__(self,\n",
    "                 name='network1',\n",
    "                 width=32, height=32, depth=3,\n",
    "                 num_blocks=2,\n",
    "                 feature_maps=32,\n",
    "                 num_classes=4, \n",
    "                 drop_rate=0.2,\n",
    "                 batch_norm = None,\n",
    "                 is_augmentation = False,\n",
    "                 activation_func='relu',\n",
    "                 optimizer='adam',\n",
    "                 batch_size=10,\n",
    "                 num_epochs= 20,\n",
    "                 learning_rate=0.0001):\n",
    "        super(YourModel, self).__init__(name, width, height, depth, num_blocks, feature_maps, num_classes, drop_rate, batch_norm, is_augmentation, \n",
    "                                        activation_func, optimizer, batch_size, num_epochs, learning_rate)\n",
    "    \n",
    "    def build_cnn(self):\n",
    "        #reuse code of previous section here\n",
    "    \n",
    "    def fit(self, data_manager, batch_size=None, num_epochs=None):\n",
    "        #insert your code here    "
   ]
  },
  {
   "cell_type": "markdown",
   "metadata": {},
   "source": [
    "<span style=\"color:red\">**Question 3.7**</span> **Leverage the data augmentation with the best model you found before and try to observe if you can really boost the performance.**\n",
    "   \n",
    "<div style=\"text-align: right\"> <span style=\"color:red\">[5 points]</span> </div>"
   ]
  },
  {
   "cell_type": "markdown",
   "metadata": {},
   "source": [
    "#*Write your answer and observation here*\n",
    "\n",
    "....."
   ]
  },
  {
   "cell_type": "code",
   "execution_count": 157,
   "metadata": {},
   "outputs": [
    {
     "name": "stdout",
     "output_type": "stream",
     "text": [
      "Model: \"model_14\"\n",
      "_________________________________________________________________\n",
      "Layer (type)                 Output Shape              Param #   \n",
      "=================================================================\n",
      "input_26 (InputLayer)        [(None, 32, 32, 3)]       0         \n",
      "_________________________________________________________________\n",
      "conv2d_149 (Conv2D)          (None, 32, 32, 32)        896       \n",
      "_________________________________________________________________\n",
      "batch_normalization_46 (Batc (None, 32, 32, 32)        128       \n",
      "_________________________________________________________________\n",
      "dropout_148 (Dropout)        (None, 32, 32, 32)        0         \n",
      "_________________________________________________________________\n",
      "conv2d_150 (Conv2D)          (None, 32, 32, 32)        9248      \n",
      "_________________________________________________________________\n",
      "batch_normalization_47 (Batc (None, 32, 32, 32)        128       \n",
      "_________________________________________________________________\n",
      "dropout_149 (Dropout)        (None, 32, 32, 32)        0         \n",
      "_________________________________________________________________\n",
      "average_pooling2d_74 (Averag (None, 16, 16, 32)        0         \n",
      "_________________________________________________________________\n",
      "conv2d_151 (Conv2D)          (None, 16, 16, 64)        18496     \n",
      "_________________________________________________________________\n",
      "batch_normalization_48 (Batc (None, 16, 16, 64)        256       \n",
      "_________________________________________________________________\n",
      "dropout_150 (Dropout)        (None, 16, 16, 64)        0         \n",
      "_________________________________________________________________\n",
      "conv2d_152 (Conv2D)          (None, 16, 16, 64)        36928     \n",
      "_________________________________________________________________\n",
      "batch_normalization_49 (Batc (None, 16, 16, 64)        256       \n",
      "_________________________________________________________________\n",
      "dropout_151 (Dropout)        (None, 16, 16, 64)        0         \n",
      "_________________________________________________________________\n",
      "average_pooling2d_75 (Averag (None, 8, 8, 64)          0         \n",
      "_________________________________________________________________\n",
      "conv2d_153 (Conv2D)          (None, 8, 8, 128)         73856     \n",
      "_________________________________________________________________\n",
      "batch_normalization_50 (Batc (None, 8, 8, 128)         512       \n",
      "_________________________________________________________________\n",
      "dropout_152 (Dropout)        (None, 8, 8, 128)         0         \n",
      "_________________________________________________________________\n",
      "conv2d_154 (Conv2D)          (None, 8, 8, 128)         147584    \n",
      "_________________________________________________________________\n",
      "batch_normalization_51 (Batc (None, 8, 8, 128)         512       \n",
      "_________________________________________________________________\n",
      "dropout_153 (Dropout)        (None, 8, 8, 128)         0         \n",
      "_________________________________________________________________\n",
      "average_pooling2d_76 (Averag (None, 4, 4, 128)         0         \n",
      "_________________________________________________________________\n",
      "conv2d_155 (Conv2D)          (None, 4, 4, 256)         295168    \n",
      "_________________________________________________________________\n",
      "batch_normalization_52 (Batc (None, 4, 4, 256)         1024      \n",
      "_________________________________________________________________\n",
      "dropout_154 (Dropout)        (None, 4, 4, 256)         0         \n",
      "_________________________________________________________________\n",
      "conv2d_156 (Conv2D)          (None, 4, 4, 256)         590080    \n",
      "_________________________________________________________________\n",
      "batch_normalization_53 (Batc (None, 4, 4, 256)         1024      \n",
      "_________________________________________________________________\n",
      "dropout_155 (Dropout)        (None, 4, 4, 256)         0         \n",
      "_________________________________________________________________\n",
      "average_pooling2d_77 (Averag (None, 2, 2, 256)         0         \n",
      "_________________________________________________________________\n",
      "flatten_23 (Flatten)         (None, 1024)              0         \n",
      "_________________________________________________________________\n",
      "dense_23 (Dense)             (None, 4)                 4100      \n",
      "=================================================================\n",
      "Total params: 1,180,196\n",
      "Trainable params: 1,178,276\n",
      "Non-trainable params: 1,920\n",
      "_________________________________________________________________\n",
      "None\n"
     ]
    }
   ],
   "source": [
    "augmentation_network = YourModel(name='network5',\n",
    "                     feature_maps=32,\n",
    "                     num_classes=len(data_manager.classes),\n",
    "                     num_blocks=4,\n",
    "                     drop_rate= 0.5, # enter your final keep_prob value here\n",
    "                     batch_norm=True,\n",
    "                     is_augmentation= True,\n",
    "                     optimizer='adam',\n",
    "                     learning_rate= 0.001)\n",
    "augmentation_network.build_cnn()\n",
    "augmentation_network.summary()"
   ]
  },
  {
   "cell_type": "markdown",
   "metadata": {},
   "source": [
    "--- \n",
    "**<div style=\"text-align: center\"> <span style=\"color:black\">END OF ASSIGNMENT</span> </div>**"
   ]
  }
 ],
 "metadata": {
  "kernelspec": {
   "display_name": "Python 3",
   "language": "python",
   "name": "python3"
  },
  "language_info": {
   "codemirror_mode": {
    "name": "ipython",
    "version": 3
   },
   "file_extension": ".py",
   "mimetype": "text/x-python",
   "name": "python",
   "nbconvert_exporter": "python",
   "pygments_lexer": "ipython3",
   "version": "3.7.7"
  }
 },
 "nbformat": 4,
 "nbformat_minor": 4
}
