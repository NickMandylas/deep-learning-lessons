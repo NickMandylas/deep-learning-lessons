{
 "cells": [
  {
   "cell_type": "markdown",
   "metadata": {},
   "source": [
    "# <span style=\"color:#0b486b\">  FIT3181: Deep Learning (2021)</span>\n",
    "***\n",
    "*CE/Lecturer:*  **Dr Trung Le** | trunglm@monash.edu <br/>\n",
    "*Head TA:*  **Mr Thanh Nguyen** | thanh.nguyen4@monash.edu <br/>\n",
    "*Tutor:* **Dr Van Nguyen**  \\[van.nguyen1@monash.edu \\] | **Mr James Tong** \\[james.tong1@monash.edu\\] | **Dr Mahmoud Mohammad** \\[mahmoud.hossam@monash.edu\\]\n",
    "<br/> <br/>\n",
    "Faculty of Information Technology, Monash University, Australia\n",
    "***"
   ]
  },
  {
   "cell_type": "markdown",
   "metadata": {},
   "source": [
    "# <span style=\"color:#0b486b\">Tutorial 3a: Feed-forward Neural Nets with TensorFlow 1.x</span> \n",
    "**The purpose of this tutorial is to demonstrate how to work with an open-source software library for developing deep neural network applications, called TensorFlow. In this tutorial, we will focus on**:  \n",
    "- ***Inspect the common pipeline of deep learning*.**\n",
    "- ***How to implement a feedforward neural net for a multi-class classification problem using TF 1.x in Tutorial 2a*.**\n",
    "- ***How to implement a feedforward neural net for a multi-class classification problem using TF 2.x in Tutorial 2b*.**"
   ]
  },
  {
   "cell_type": "markdown",
   "metadata": {},
   "source": [
    "***"
   ]
  },
  {
   "cell_type": "markdown",
   "metadata": {},
   "source": [
    "### <span style=\"color:#0b486b\"> II.1 Feedforward Neural Network </span> <span style=\"color:red\">***** (highly important)</span>\n",
    "#### <span style=\"color:#0b486b\"> Tutorial objective </span>"
   ]
  },
  {
   "cell_type": "markdown",
   "metadata": {},
   "source": [
    "In this tutorial, we will consider a fairly realistic deep NN with *three* layers plus the *output* layer. Its architecture will be specified as $16 \\rightarrow 10 (ReLU) \\rightarrow 20 (ReLU) \\rightarrow 15 (ReLU) \\rightarrow 26$. This means:\n",
    "- The input size is 16\n",
    "- The first layer has 10 hidden units with 10 ReLU activation functions\n",
    "- The second layer has 20 hidden units with 20 ReLU activation functions\n",
    "- The third layer has 15 hidden units with 15 ReLU activation functions\n",
    "- And the output layer is a logit layer with 26 hidden units"
   ]
  },
  {
   "cell_type": "markdown",
   "metadata": {},
   "source": [
    "This network, for example, can take the `letter` dataset input with $16$ features and with $26$ classes (A-Z). **Our objective in this tutorial is to implement this specific network in `TensorFlow 1.x`.**"
   ]
  },
  {
   "cell_type": "markdown",
   "metadata": {},
   "source": [
    "#### <span style=\"color:#0b486b\">Specifying the Neural Network Architecture </span>"
   ]
  },
  {
   "cell_type": "markdown",
   "metadata": {},
   "source": [
    "We can visualize this network as in the figure below. Please note that for readability, the number of hidden units in the figure might not correspond exactly to the actual size of the hidden units used."
   ]
  },
  {
   "cell_type": "markdown",
   "metadata": {},
   "source": [
    "<img src=\"./images/DNN_Pipeline.png\" width=\"1000\">"
   ]
  },
  {
   "cell_type": "markdown",
   "metadata": {},
   "source": [
    "Furthermore, the above figure shows the pipeline of the entire process for feeding a mini-batch of batch size $32$ into the network. Using ***mini-batch*** is a common way to train deep NNs in practice."
   ]
  },
  {
   "cell_type": "markdown",
   "metadata": {},
   "source": [
    "Let us denote the mini-batch by $X_b= \\{(x_1, y_1),\\dots, (x_{32}, y_{32})\\}$. The mini-batch can be stored using a $2D$ tensor with the shape $(32, 16)$. Assume that in this network, we use the activation function $ReLu$ where $ReLu(t)= \\max\\{0, t\\}$. The computation in the forward propagation step is as follows:\n",
    "- Input $X_b$ with a mini-batch size of 32\n",
    "- $h_1= ReLu(X_b \\times W^1 + b^1)\\in \\mathbb{R}^{32 \\times 10}$. \n",
    "- $h_2= ReLu(h_1 \\times W^2 + b^2)\\in \\mathbb{R}^{32 \\times 20}$. \n",
    "- $h_3= ReLu(h_2 \\times W^3 + b^3)\\in \\mathbb{R}^{32 \\times 15}$. \n",
    "- $logits= h_3 \\times W^4 + b^4 \\in \\mathbb{R}^{32 \\times 26}$\n",
    "- $p = softmax(logits) \\in \\mathbb{R}^{32 \\times 26}$ <br>\n",
    "\n",
    "where we note that the activation function is performed element-wise and the softmax function is used to transform a vector of scalars to a discrete distribution as: \n",
    "\n",
    "$$softmax(z)=\\big[\\frac{\\exp(z_i)}{\\sum_{j=1}^{26}{\\exp(z_j)}}\\big]_{i=1}^{26}$$"
   ]
  },
  {
   "cell_type": "markdown",
   "metadata": {},
   "source": [
    "    \n",
    "The $k$-th row $p_k$ of the matrix $p$ can represent the probability distribution to classify the data point $x_k$ to classes $1,2,\\dots,26$. In particular, we have:\n",
    "\n",
    "$$p_{km}= p(y_k=m \\mid x_k)  \\text{ for }  m=1,2,\\dots,26$$"
   ]
  },
  {
   "cell_type": "markdown",
   "metadata": {},
   "source": [
    "**<span style=\"color:red\"> Exercise 1</span>** : Explain why the dimension for $h_1$ is $32\\times 10$? and similarly work out the dimension for $h2, h3, logits$ and $p$."
   ]
  },
  {
   "cell_type": "markdown",
   "metadata": {},
   "source": [
    "#### <span style=\"color:#0b486b\">Specifying the Loss Function </span>\n",
    "Essential to training a deep NN is the concept of the **loss function**. This function will tell us how good the network is predicting, and hence we can use this loss to find the network weights in such a way that the loss can be minimized."
   ]
  },
  {
   "cell_type": "markdown",
   "metadata": {},
   "source": [
    "For the classification task, a common approach is to use the **cross-entropy** loss function. Given a data-label instance $(x_k,y_k)$ where feature $x_k\\in \\mathbb{R}^{16}$ and label $y_k \\in \\mathbb{R}^{26}$ is a one-hot vector (for example if $x_k$ is in class 2, then $y_k=[0,1,0,...,0]$). The cross-entropy between the classification distribution $p_k$ returned from the NN and true label distribution $y_k$ is defined as:\n",
    "$$cross\\_entropy(y_k, p_k)=-\\sum_{j=1}^{26}y_{kj}\\log{p_{kj}}=-\\log p_{km_k}$$\n",
    "where $m_k$ denotes the class for $x_k$ (hence the one-hot vector $y_k$ is zero everywhere except at position $m_k$). This loss basically enforces the model to predict the label as close as the true label by minimizing $cross\\_entropy(y_k, p_k)$.\n",
    "\n",
    "The above loss function was applied for each instance. For the entire current mini-batch, our loss function becomes: \n",
    "$$\\min \\sum_{k=1}^{32}cross\\_entropy(y_k, p_k)$$"
   ]
  },
  {
   "cell_type": "markdown",
   "metadata": {},
   "source": [
    "**<span style=\"color:red\"> Exercise 2: </span>** : **<span style=\"color:#0b486b\">In the cross-entropy equation above, $m_k$ is the class for $x_k$, explain why the end result is $-\\log p_{km_k}$.</span>**"
   ]
  },
  {
   "cell_type": "markdown",
   "metadata": {},
   "source": [
    "**<span style=\"color:red\"> Exercise 3: </span>** : **<span style=\"color:#0b486b\">Let $p=[0.1, 0.3, 0.6]$ and $q=[0.0, 0.5, 0.5]$ be two discrete distributions, what is the $cross\\_entropy(q,p)$ ?</span>**"
   ]
  },
  {
   "cell_type": "markdown",
   "metadata": {},
   "source": [
    "### <span style=\"color:#0b486b\"> II.2 Implementation with TensorFlow 1.x</span> <span style=\"color:red\">**** (important)</span>\n",
    "We now shall implement the aforementioned network with the architecture of $16 \\rightarrow 10 (ReLU) \\rightarrow 20 (ReLU) \\rightarrow 15 (ReLu) \\rightarrow 26$ in Tensorflow using the dataset `letter`. "
   ]
  },
  {
   "cell_type": "markdown",
   "metadata": {},
   "source": [
    "This letter dataset can be found at [the LIBSVM website](https://www.csie.ntu.edu.tw/~cjlin/libsvmtools/datasets/multiclass.html#letter). Here is the dataset information:\n",
    "-  *The objective is to identify each of a large number of black-and-white rectangular pixel displays as one of the 26 capital letters in the English alphabet. The character images were based on 20 different fonts and each letter within these 20 fonts was randomly distorted to produce a file of 20,000 unique stimuli. Each stimulus was converted into 16 primitive numerical attributes (statistical moments and edge counts) which were then scaled to fit into a range of integer values from 0 through 15*"
   ]
  },
  {
   "cell_type": "markdown",
   "metadata": {},
   "source": [
    "A typical pipeline process of implementing a deep learning model is as follows:\n",
    "\n",
    "1. **Data processing**: \n",
    "   - Load the dataset and split it into train, valid, and test sets.  \n",
    "     \n",
    "2. **Construction phase**: \n",
    "   - Define the NN model Construct the corresponding computational graph.\n",
    "   - Define the loss function and the relevant measures of performance of interest (accuracy, F1, and AUC).\n",
    "    \n",
    "3. **Execution and evaluation phase**: \n",
    "   - Train the model using mini-batches from the train set by minimizing the loss function with an optimizer.\n",
    "   - Predict the test set and assess its performance."
   ]
  },
  {
   "cell_type": "markdown",
   "metadata": {},
   "source": [
    "#### <span style=\"color:#0b486b\">1. Data Processing </span>"
   ]
  },
  {
   "cell_type": "markdown",
   "metadata": {},
   "source": [
    "We use `sklearn` to load the dataset."
   ]
  },
  {
   "cell_type": "code",
   "execution_count": 31,
   "metadata": {},
   "outputs": [],
   "source": [
    "import os\n",
    "import numpy as np\n",
    "from sklearn.datasets import load_svmlight_file"
   ]
  },
  {
   "cell_type": "code",
   "execution_count": 32,
   "metadata": {},
   "outputs": [
    {
     "name": "stdout",
     "output_type": "stream",
     "text": [
      "X data shape: (15000, 16)\n",
      "y data shape: (15000,)\n",
      "# classes: 26\n",
      "[ 1.  2.  3.  4.  5.  6.  7.  8.  9. 10. 11. 12. 13. 14. 15. 16. 17. 18.\n",
      " 19. 20. 21. 22. 23. 24. 25. 26.]\n"
     ]
    }
   ],
   "source": [
    "data_file_name= \"letter_scale.libsvm\"\n",
    "data_file = os.path.abspath(\"./data/\" + data_file_name)\n",
    "X_data, y_data = load_svmlight_file(data_file)\n",
    "X_data= X_data.toarray()\n",
    "print(\"X data shape: {}\".format(X_data.shape))\n",
    "print(\"y data shape: {}\".format(y_data.shape))\n",
    "print(\"# classes: {}\".format(len(np.unique(y_data))))\n",
    "print(np.unique(y_data))"
   ]
  },
  {
   "cell_type": "markdown",
   "metadata": {},
   "source": [
    "We use `sklearn` to split the dataset into the train, validation, and test sets. \n"
   ]
  },
  {
   "cell_type": "code",
   "execution_count": 33,
   "metadata": {},
   "outputs": [],
   "source": [
    "from sklearn.model_selection import train_test_split\n",
    "from sklearn import preprocessing\n",
    "import tensorflow.compat.v1 as tf\n",
    "tf.disable_v2_behavior()\n",
    "\n",
    "def train_valid_test_split(data, target, train_size, test_size):\n",
    "    valid_size = 1 - (train_size + test_size)\n",
    "    X1, X_test, y1, y_test = train_test_split(data, target, test_size = test_size, random_state= 33)\n",
    "    X_train, X_valid, y_train, y_valid = train_test_split(X1, y1, test_size = float(valid_size)/(valid_size+ train_size))\n",
    "    return X_train, X_valid, X_test, y_train, y_valid, y_test"
   ]
  },
  {
   "cell_type": "markdown",
   "metadata": {},
   "source": [
    "Next, we would like to encode the label in the form of numeric vector. For example, we want to turn $y\\_data=[\"cat\", \"dog\", \"cat\", \"lion\", \"dog\"]$ to $y\\_data=[0,1,0,2,1]$."
   ]
  },
  {
   "cell_type": "markdown",
   "metadata": {},
   "source": [
    "To do this, in the following segment of code, we use the object `le` as an instance of the class `preprocessing.LabelEncoder()` which supports us to transform categorical labels in `y_data` to a numerical vector."
   ]
  },
  {
   "cell_type": "code",
   "execution_count": 34,
   "metadata": {},
   "outputs": [
    {
     "name": "stdout",
     "output_type": "stream",
     "text": [
      "[25 15 18  7  7  5 13 17 12  3 21  0 10  3 18  7  4 25 14 16]\n"
     ]
    }
   ],
   "source": [
    "le = preprocessing.LabelEncoder()\n",
    "le.fit(y_data)\n",
    "y_data= le.transform(y_data)\n",
    "print(y_data[:20])"
   ]
  },
  {
   "cell_type": "markdown",
   "metadata": {},
   "source": [
    "We now use the function defined above to prepare our data for training, validating and testing."
   ]
  },
  {
   "cell_type": "code",
   "execution_count": 35,
   "metadata": {},
   "outputs": [
    {
     "name": "stdout",
     "output_type": "stream",
     "text": [
      "(12000, 16) (1500, 16) (1500, 16)\n",
      "(12000,) (1500,) (1500,)\n",
      "lables: [ 0  1  2  3  4  5  6  7  8  9 10 11 12 13 14 15 16 17 18 19 20 21 22 23\n",
      " 24 25]\n"
     ]
    }
   ],
   "source": [
    "X_train, X_valid, X_test, y_train, y_valid, y_test = train_valid_test_split(X_data, y_data, train_size=0.8, test_size=0.1)\n",
    "y_train= y_train.reshape(-1)\n",
    "y_test= y_test.reshape(-1)\n",
    "y_valid= y_valid.reshape(-1)\n",
    "print(X_train.shape, X_valid.shape, X_test.shape)\n",
    "print(y_train.shape, y_valid.shape, y_test.shape)\n",
    "print(\"lables: {}\".format(np.unique(y_train)))"
   ]
  },
  {
   "cell_type": "markdown",
   "metadata": {},
   "source": [
    "We catch some information of the training set which will be reused later."
   ]
  },
  {
   "cell_type": "code",
   "execution_count": 36,
   "metadata": {},
   "outputs": [
    {
     "name": "stdout",
     "output_type": "stream",
     "text": [
      "12000 16 26\n"
     ]
    }
   ],
   "source": [
    "train_size= int(X_train.shape[0])\n",
    "n_features= int(X_train.shape[1])\n",
    "n_classes= len(np.unique(y_train))\n",
    "print(train_size, n_features, n_classes)"
   ]
  },
  {
   "cell_type": "markdown",
   "metadata": {},
   "source": [
    "Once again, in real-world implementation of deep learning models, we use Stochastic Gradient Descent (SGD). Input to this algorithm is a sequence of **mini-batch** of data drawn from the training dataset."
   ]
  },
  {
   "cell_type": "markdown",
   "metadata": {},
   "source": [
    "#### <span style=\"color:#0b486b\">2. Construction Phase </span>"
   ]
  },
  {
   "cell_type": "markdown",
   "metadata": {},
   "source": [
    "We build up a feedforward neural network with the architecture: $16 \\rightarrow 10 (ReLU) \\rightarrow 20 (ReLU) \\rightarrow 15 (ReLu) \\rightarrow 26$ in TensorFlow."
   ]
  },
  {
   "cell_type": "code",
   "execution_count": 37,
   "metadata": {},
   "outputs": [],
   "source": [
    "n_in= n_features    # dimension of input\n",
    "n1= 10              # number of hidden units at the first layer\n",
    "n2= 20              # number of hidden units at the second layer\n",
    "n3= 15              # number of hidden units at the third layer\n",
    "n_out= n_classes    # number of classification classes"
   ]
  },
  {
   "cell_type": "markdown",
   "metadata": {},
   "source": [
    "The function `dense_layer` represents a fully connected layer in a deep learning network. This takes $W,b$ and input as inputs and returns $\\sigma(W \\times input + b)$ where the activation function $sigma$ is specified by the parameter `act`.\n",
    "- In `TensorFlow`, we can refer to the `activation functions` as `tf.nn.relu`, `tf.nn.sigmoid`, `tf.nn.tanh`, and etc.\n",
    "- You can also define your own activation function."
   ]
  },
  {
   "cell_type": "code",
   "execution_count": 38,
   "metadata": {},
   "outputs": [],
   "source": [
    "def dense_layer(inputs, output_size, act=None, name=\"hidden-layer\"):\n",
    "    with tf.name_scope(name):\n",
    "        input_size= int(inputs.get_shape()[1])\n",
    "        W_init = tf.random.normal([input_size, output_size], mean=0, stddev= 0.1, dtype= tf.float32)\n",
    "        b_init= tf.random.normal([output_size], mean=0, stddev= 0.1, dtype= tf.float32)\n",
    "        W= tf.Variable(W_init, name= \"W\")\n",
    "        b= tf.Variable(b_init, name=\"b\")\n",
    "        Wxb= tf.matmul(inputs, W) + b\n",
    "        if act is None:\n",
    "            return Wxb\n",
    "        else:\n",
    "            return act(Wxb)"
   ]
  },
  {
   "cell_type": "markdown",
   "metadata": {},
   "source": [
    "We now construct the computational graph. But before that we need to reset the default graph."
   ]
  },
  {
   "cell_type": "code",
   "execution_count": 39,
   "metadata": {},
   "outputs": [],
   "source": [
    "tf.reset_default_graph()\n",
    "with tf.name_scope(\"network\"):\n",
    "    X= tf.placeholder(shape=[None, n_in], dtype= tf.float32)\n",
    "    y= tf.placeholder(shape=[None], dtype= tf.int32)\n",
    "    h1= dense_layer(X, n1, act= tf.nn.relu, name= \"layer1\")\n",
    "    h2= dense_layer(h1, n2, act= tf.nn.relu, name= \"layer2\")\n",
    "    h3= dense_layer(h2, n3, act= tf.nn.relu, name= \"layer3\")\n",
    "    logits= dense_layer(h3, n_out, name=\"logits\")"
   ]
  },
  {
   "cell_type": "markdown",
   "metadata": {},
   "source": [
    "We compute the cross-entropy loss. Note that in TensorFlow you can use two of the following functions for evaluating the cross-entropy loss:\n",
    "- `tf.nn.sparse_softmax_cross_entropy_with_logits`: if the labels `y_train` is in the categorial format (e.g., `y_train=[0,1,0,1,1,2]`).\n",
    "- `tf.nn.softmax_cross_entropy_with_logits`: if the labels `y_train` is in the one-hot format (e.g., `y_train=[[1,0,0], [0,1,0], [1,0,0], [0,0,1]]`."
   ]
  },
  {
   "cell_type": "markdown",
   "metadata": {},
   "source": [
    "We also need to specify an optimizer to minimize the loss. Here, we are using the Adam optimizer for this optimization. "
   ]
  },
  {
   "cell_type": "code",
   "execution_count": 40,
   "metadata": {},
   "outputs": [],
   "source": [
    "with tf.name_scope('train'):\n",
    "    xentropy = tf.nn.sparse_softmax_cross_entropy_with_logits(labels=y, logits=logits, name='xentropy')\n",
    "    loss= tf.reduce_mean(xentropy, name=\"loss\")\n",
    "    tf.summary.scalar(\"loss\", loss)        #summarize the loss\n",
    "    optimizer= tf.train.AdamOptimizer(learning_rate=0.001)\n",
    "    train_op= optimizer.minimize(loss)"
   ]
  },
  {
   "cell_type": "markdown",
   "metadata": {},
   "source": [
    "In the above code, we add the line ***tf.summary.scalar(\"loss\", loss)*** to add to the summary the loss.\n",
    "\n",
    "We also wish to estimate the accuracy of our model. For this you can use the [*`in_top_k()`* function](https://www.tensorflow.org/api_docs/python/tf/nn/in_top_k) with *k=1*. This returns a 1D tensor full of boolean values, so we need to cast these booleans to floats and then compute the average. This will give us the network’s overall accuracy. We insert the line ***tf.summary.scalar(\"accuracy\", accuracy)*** to add to the summary the accuracy."
   ]
  },
  {
   "cell_type": "code",
   "execution_count": 41,
   "metadata": {},
   "outputs": [],
   "source": [
    "with tf.name_scope('evaluation'):\n",
    "    correct = tf.nn.in_top_k(logits, y, 1)\n",
    "    accuracy = tf.reduce_mean(tf.cast(correct, tf.float32))\n",
    "    tf.summary.scalar(\"accuracy\", accuracy)  #summarize the accuracy"
   ]
  },
  {
   "cell_type": "markdown",
   "metadata": {},
   "source": [
    "We now define two FileWriters to write the summary in two log folders. By this way, we can plot the train, valid losses (or accuracies) on the same graph. Note that you can use this trick when you want to display some plots on the same graph."
   ]
  },
  {
   "cell_type": "code",
   "execution_count": 42,
   "metadata": {},
   "outputs": [],
   "source": [
    "if(not os.path.exists(\"logs/example/train\")):\n",
    "    os.makedirs(\"logs/example/train\")\n",
    "\n",
    "if(not os.path.exists(\"logs/example/val\")):\n",
    "    os.makedirs(\"logs/example/val\")\n",
    "\n",
    "    \n",
    "merged= tf.summary.merge_all()\n",
    "train_writer= tf.summary.FileWriter(\"logs/example/train\")\n",
    "valid_writer= tf.summary.FileWriter(\"logs/example/val\")"
   ]
  },
  {
   "cell_type": "markdown",
   "metadata": {},
   "source": [
    "#### <span style=\"color:#0b486b\">3. Execution and Evaluation Phase </span>"
   ]
  },
  {
   "cell_type": "markdown",
   "metadata": {},
   "source": [
    "In the `execution phase`, we need to create a `TensorFlow session`, then initialize `all variables` in the graph, execute `train_op`, and query the values of necessary nodes (e.g., `loss` and `accuracy`)."
   ]
  },
  {
   "cell_type": "markdown",
   "metadata": {},
   "source": [
    "- Initialize all variables\n",
    "  - `init= tf.global_variables_initializer()` and `sess.run(init)`."
   ]
  },
  {
   "cell_type": "markdown",
   "metadata": {},
   "source": [
    "- Execute `train_op` when feeding mini-batches to the network\n",
    "  - `sess.run([train_op], feed_dict={X:x_batch, y:y_batch})`"
   ]
  },
  {
   "cell_type": "markdown",
   "metadata": {},
   "source": [
    "- Query the values of necessary nodes\n",
    "  - `val_loss, val_accuracy= sess.run([loss, accuracy], feed_dict={X:X_valid, y:y_valid})`"
   ]
  },
  {
   "cell_type": "markdown",
   "metadata": {},
   "source": [
    "Note that as a rule of machine learning, during the training phase, we **cannot** touch the `test set` and only use this set when we need to output the predictive performance of a trained model.\n",
    "-  Output the predictive performance on the test set\n",
    "   - `test_accuracy= sess.run(accuracy, feed_dict={X:X_test, y:y_test})`"
   ]
  },
  {
   "cell_type": "code",
   "execution_count": 43,
   "metadata": {},
   "outputs": [
    {
     "name": "stdout",
     "output_type": "stream",
     "text": [
      "Epoch 1: valid loss=2.6704, valid acc=0.1553\n",
      "########: train loss=2.6632, train acc=0.1593\n",
      "Epoch 2: valid loss=2.3186, valid acc=0.2600\n",
      "########: train loss=2.2819, train acc=0.2669\n",
      "Epoch 3: valid loss=2.1959, valid acc=0.3087\n",
      "########: train loss=2.1531, train acc=0.3144\n",
      "Epoch 4: valid loss=2.1278, valid acc=0.3333\n",
      "########: train loss=2.0849, train acc=0.3405\n",
      "Epoch 5: valid loss=2.0602, valid acc=0.3487\n",
      "########: train loss=2.0175, train acc=0.3577\n",
      "Epoch 6: valid loss=1.9615, valid acc=0.3933\n",
      "########: train loss=1.9242, train acc=0.3952\n",
      "Epoch 7: valid loss=1.7740, valid acc=0.4633\n",
      "########: train loss=1.7350, train acc=0.4691\n",
      "Epoch 8: valid loss=1.6522, valid acc=0.4947\n",
      "########: train loss=1.6121, train acc=0.5064\n",
      "Epoch 9: valid loss=1.5837, valid acc=0.5120\n",
      "########: train loss=1.5432, train acc=0.5265\n",
      "Epoch 10: valid loss=1.5328, valid acc=0.5273\n",
      "########: train loss=1.4922, train acc=0.5431\n",
      "Epoch 11: valid loss=1.4917, valid acc=0.5393\n",
      "########: train loss=1.4506, train acc=0.5575\n",
      "Epoch 12: valid loss=1.4530, valid acc=0.5540\n",
      "########: train loss=1.4125, train acc=0.5696\n",
      "Epoch 13: valid loss=1.4192, valid acc=0.5600\n",
      "########: train loss=1.3786, train acc=0.5782\n",
      "Epoch 14: valid loss=1.3896, valid acc=0.5707\n",
      "########: train loss=1.3485, train acc=0.5857\n",
      "Epoch 15: valid loss=1.3620, valid acc=0.5800\n",
      "########: train loss=1.3203, train acc=0.5958\n",
      "Epoch 16: valid loss=1.3368, valid acc=0.5907\n",
      "########: train loss=1.2950, train acc=0.6027\n",
      "Epoch 17: valid loss=1.3140, valid acc=0.5960\n",
      "########: train loss=1.2716, train acc=0.6103\n",
      "Epoch 18: valid loss=1.2912, valid acc=0.6033\n",
      "########: train loss=1.2484, train acc=0.6164\n",
      "Epoch 19: valid loss=1.2699, valid acc=0.6073\n",
      "########: train loss=1.2270, train acc=0.6223\n",
      "Epoch 20: valid loss=1.2509, valid acc=0.6133\n",
      "########: train loss=1.2077, train acc=0.6272\n",
      "Epoch 21: valid loss=1.2327, valid acc=0.6200\n",
      "########: train loss=1.1895, train acc=0.6304\n",
      "Epoch 22: valid loss=1.2147, valid acc=0.6227\n",
      "########: train loss=1.1719, train acc=0.6347\n",
      "Epoch 23: valid loss=1.1989, valid acc=0.6220\n",
      "########: train loss=1.1560, train acc=0.6389\n",
      "Epoch 24: valid loss=1.1841, valid acc=0.6300\n",
      "########: train loss=1.1416, train acc=0.6434\n",
      "Epoch 25: valid loss=1.1702, valid acc=0.6367\n",
      "########: train loss=1.1279, train acc=0.6481\n",
      "Epoch 26: valid loss=1.1558, valid acc=0.6393\n",
      "########: train loss=1.1142, train acc=0.6508\n",
      "Epoch 27: valid loss=1.1435, valid acc=0.6433\n",
      "########: train loss=1.1020, train acc=0.6543\n",
      "Epoch 28: valid loss=1.1328, valid acc=0.6487\n",
      "########: train loss=1.0910, train acc=0.6563\n",
      "Epoch 29: valid loss=1.1225, valid acc=0.6480\n",
      "########: train loss=1.0803, train acc=0.6594\n",
      "Epoch 30: valid loss=1.1131, valid acc=0.6500\n",
      "########: train loss=1.0703, train acc=0.6620\n",
      "Epoch 31: valid loss=1.1034, valid acc=0.6507\n",
      "########: train loss=1.0611, train acc=0.6651\n",
      "Epoch 32: valid loss=1.0956, valid acc=0.6540\n",
      "########: train loss=1.0529, train acc=0.6691\n",
      "Epoch 33: valid loss=1.0877, valid acc=0.6580\n",
      "########: train loss=1.0448, train acc=0.6714\n",
      "Epoch 34: valid loss=1.0801, valid acc=0.6593\n",
      "########: train loss=1.0372, train acc=0.6729\n",
      "Epoch 35: valid loss=1.0722, valid acc=0.6627\n",
      "########: train loss=1.0293, train acc=0.6742\n",
      "Epoch 36: valid loss=1.0651, valid acc=0.6647\n",
      "########: train loss=1.0217, train acc=0.6768\n",
      "Epoch 37: valid loss=1.0575, valid acc=0.6653\n",
      "########: train loss=1.0137, train acc=0.6804\n",
      "Epoch 38: valid loss=1.0508, valid acc=0.6647\n",
      "########: train loss=1.0068, train acc=0.6828\n",
      "Epoch 39: valid loss=1.0435, valid acc=0.6680\n",
      "########: train loss=0.9991, train acc=0.6852\n",
      "Epoch 40: valid loss=1.0367, valid acc=0.6700\n",
      "########: train loss=0.9916, train acc=0.6874\n",
      "Epoch 41: valid loss=1.0295, valid acc=0.6733\n",
      "########: train loss=0.9835, train acc=0.6897\n",
      "Epoch 42: valid loss=1.0227, valid acc=0.6773\n",
      "########: train loss=0.9761, train acc=0.6923\n",
      "Epoch 43: valid loss=1.0161, valid acc=0.6787\n",
      "########: train loss=0.9684, train acc=0.6941\n",
      "Epoch 44: valid loss=1.0083, valid acc=0.6820\n",
      "########: train loss=0.9603, train acc=0.6969\n",
      "Epoch 45: valid loss=1.0023, valid acc=0.6820\n",
      "########: train loss=0.9523, train acc=0.7017\n",
      "Epoch 46: valid loss=0.9956, valid acc=0.6840\n",
      "########: train loss=0.9438, train acc=0.7036\n",
      "Epoch 47: valid loss=0.9894, valid acc=0.6920\n",
      "########: train loss=0.9356, train acc=0.7076\n",
      "Epoch 48: valid loss=0.9821, valid acc=0.6940\n",
      "########: train loss=0.9272, train acc=0.7119\n",
      "Epoch 49: valid loss=0.9761, valid acc=0.6987\n",
      "########: train loss=0.9197, train acc=0.7144\n",
      "Epoch 50: valid loss=0.9700, valid acc=0.7027\n",
      "########: train loss=0.9118, train acc=0.7178\n",
      "Epoch 51: valid loss=0.9641, valid acc=0.7040\n",
      "########: train loss=0.9045, train acc=0.7196\n",
      "Epoch 52: valid loss=0.9585, valid acc=0.7073\n",
      "########: train loss=0.8969, train acc=0.7239\n",
      "Epoch 53: valid loss=0.9534, valid acc=0.7093\n",
      "########: train loss=0.8900, train acc=0.7261\n",
      "Epoch 54: valid loss=0.9486, valid acc=0.7087\n",
      "########: train loss=0.8834, train acc=0.7276\n",
      "Epoch 55: valid loss=0.9433, valid acc=0.7133\n",
      "########: train loss=0.8757, train acc=0.7298\n",
      "Epoch 56: valid loss=0.9378, valid acc=0.7133\n",
      "########: train loss=0.8679, train acc=0.7318\n",
      "Epoch 57: valid loss=0.9325, valid acc=0.7147\n",
      "########: train loss=0.8609, train acc=0.7350\n",
      "Epoch 58: valid loss=0.9270, valid acc=0.7173\n",
      "########: train loss=0.8537, train acc=0.7380\n",
      "Epoch 59: valid loss=0.9222, valid acc=0.7193\n",
      "########: train loss=0.8468, train acc=0.7400\n",
      "Epoch 60: valid loss=0.9170, valid acc=0.7220\n",
      "########: train loss=0.8399, train acc=0.7410\n",
      "Epoch 61: valid loss=0.9123, valid acc=0.7253\n",
      "########: train loss=0.8335, train acc=0.7427\n",
      "Epoch 62: valid loss=0.9070, valid acc=0.7253\n",
      "########: train loss=0.8272, train acc=0.7441\n",
      "Epoch 63: valid loss=0.9022, valid acc=0.7253\n",
      "########: train loss=0.8209, train acc=0.7458\n",
      "Epoch 64: valid loss=0.8973, valid acc=0.7260\n",
      "########: train loss=0.8146, train acc=0.7479\n",
      "Epoch 65: valid loss=0.8933, valid acc=0.7300\n",
      "########: train loss=0.8093, train acc=0.7494\n",
      "Epoch 66: valid loss=0.8885, valid acc=0.7313\n",
      "########: train loss=0.8039, train acc=0.7519\n",
      "Epoch 67: valid loss=0.8840, valid acc=0.7360\n",
      "########: train loss=0.7986, train acc=0.7533\n",
      "Epoch 68: valid loss=0.8805, valid acc=0.7393\n",
      "########: train loss=0.7945, train acc=0.7553\n",
      "Epoch 69: valid loss=0.8761, valid acc=0.7400\n",
      "########: train loss=0.7896, train acc=0.7569\n",
      "Epoch 70: valid loss=0.8716, valid acc=0.7440\n",
      "########: train loss=0.7845, train acc=0.7579\n",
      "Epoch 71: valid loss=0.8664, valid acc=0.7473\n",
      "########: train loss=0.7791, train acc=0.7589\n",
      "Epoch 72: valid loss=0.8620, valid acc=0.7480\n",
      "########: train loss=0.7740, train acc=0.7606\n",
      "Epoch 73: valid loss=0.8571, valid acc=0.7473\n",
      "########: train loss=0.7692, train acc=0.7617\n",
      "Epoch 74: valid loss=0.8521, valid acc=0.7487\n",
      "########: train loss=0.7643, train acc=0.7629\n",
      "Epoch 75: valid loss=0.8475, valid acc=0.7487\n",
      "########: train loss=0.7598, train acc=0.7640\n",
      "Epoch 76: valid loss=0.8423, valid acc=0.7493\n",
      "########: train loss=0.7547, train acc=0.7657\n",
      "Epoch 77: valid loss=0.8383, valid acc=0.7500\n",
      "########: train loss=0.7506, train acc=0.7661\n",
      "Epoch 78: valid loss=0.8337, valid acc=0.7520\n",
      "########: train loss=0.7463, train acc=0.7673\n",
      "Epoch 79: valid loss=0.8289, valid acc=0.7533\n",
      "########: train loss=0.7419, train acc=0.7682\n",
      "Epoch 80: valid loss=0.8251, valid acc=0.7580\n",
      "########: train loss=0.7381, train acc=0.7697\n",
      "Epoch 81: valid loss=0.8212, valid acc=0.7593\n",
      "########: train loss=0.7343, train acc=0.7711\n",
      "Epoch 82: valid loss=0.8169, valid acc=0.7593\n",
      "########: train loss=0.7306, train acc=0.7722\n",
      "Epoch 83: valid loss=0.8132, valid acc=0.7607\n",
      "########: train loss=0.7276, train acc=0.7726\n",
      "Epoch 84: valid loss=0.8088, valid acc=0.7620\n",
      "########: train loss=0.7237, train acc=0.7746\n",
      "Epoch 85: valid loss=0.8050, valid acc=0.7620\n",
      "########: train loss=0.7204, train acc=0.7748\n",
      "Epoch 86: valid loss=0.8016, valid acc=0.7600\n",
      "########: train loss=0.7174, train acc=0.7752\n",
      "Epoch 87: valid loss=0.7976, valid acc=0.7620\n",
      "########: train loss=0.7143, train acc=0.7757\n",
      "Epoch 88: valid loss=0.7941, valid acc=0.7620\n",
      "########: train loss=0.7111, train acc=0.7765\n",
      "Epoch 89: valid loss=0.7898, valid acc=0.7620\n",
      "########: train loss=0.7079, train acc=0.7779\n",
      "Epoch 90: valid loss=0.7861, valid acc=0.7633\n",
      "########: train loss=0.7051, train acc=0.7788\n"
     ]
    },
    {
     "name": "stdout",
     "output_type": "stream",
     "text": [
      "Epoch 91: valid loss=0.7816, valid acc=0.7640\n",
      "########: train loss=0.7023, train acc=0.7795\n",
      "Epoch 92: valid loss=0.7777, valid acc=0.7660\n",
      "########: train loss=0.6997, train acc=0.7807\n",
      "Epoch 93: valid loss=0.7744, valid acc=0.7667\n",
      "########: train loss=0.6972, train acc=0.7813\n",
      "Epoch 94: valid loss=0.7706, valid acc=0.7653\n",
      "########: train loss=0.6943, train acc=0.7815\n",
      "Epoch 95: valid loss=0.7684, valid acc=0.7640\n",
      "########: train loss=0.6923, train acc=0.7828\n",
      "Epoch 96: valid loss=0.7655, valid acc=0.7640\n",
      "########: train loss=0.6896, train acc=0.7830\n",
      "Epoch 97: valid loss=0.7622, valid acc=0.7673\n",
      "########: train loss=0.6870, train acc=0.7837\n",
      "Epoch 98: valid loss=0.7593, valid acc=0.7673\n",
      "########: train loss=0.6848, train acc=0.7841\n",
      "Epoch 99: valid loss=0.7569, valid acc=0.7673\n",
      "########: train loss=0.6828, train acc=0.7842\n",
      "Epoch 100: valid loss=0.7543, valid acc=0.7700\n",
      "########: train loss=0.6804, train acc=0.7842\n",
      "---------------------------------------------\n",
      "\n",
      "Test accuracy: 0.7673\n"
     ]
    }
   ],
   "source": [
    "import math\n",
    "batch_size= 32\n",
    "history= []  #used to store train, valid accuracies and losses for showing later\n",
    "num_epoch = 100\n",
    "iter_per_epoch= math.ceil(float(train_size)/batch_size)  #number of iterations per epoch\n",
    "\n",
    "with tf.Session() as sess:\n",
    "    init= tf.global_variables_initializer()\n",
    "    sess.run(init)\n",
    "    for epoch in range(num_epoch):\n",
    "        for idx_start in range(0, X_train.shape[0], batch_size):\n",
    "            idx_end = min(X_train.shape[0], idx_start + batch_size)\n",
    "            X_batch, y_batch = X_train[idx_start:idx_end], y_train[idx_start:idx_end]\n",
    "            sess.run([train_op], feed_dict={X:X_batch, y:y_batch})\n",
    "        #compute accuracies and losses at the end of each epoch\n",
    "        train_summary, train_loss, train_accuracy= sess.run([merged,loss, accuracy], feed_dict={X:X_train, y:y_train})\n",
    "        train_writer.add_summary(train_summary, epoch +1)\n",
    "        train_writer.flush()\n",
    "        \n",
    "        valid_summary,val_loss, val_accuracy= sess.run([merged,loss, accuracy], feed_dict={X:X_valid, y:y_valid})\n",
    "        valid_writer.add_summary(valid_summary, epoch +1)\n",
    "        valid_writer.flush()\n",
    "        print(\"Epoch {}: valid loss={:.4f}, valid acc={:.4f}\".format(epoch+1, val_loss, val_accuracy))\n",
    "        print(\"########: train loss={:.4f}, train acc={:.4f}\".format(train_loss, train_accuracy))\n",
    "        hist_item={\"train_loss\": train_loss, \"train_acc\": train_accuracy, \n",
    "                   \"val_loss\":val_loss, \"val_acc\": val_accuracy}\n",
    "        history.append(hist_item)\n",
    "    print(\"---------------------------------------------\\n\")\n",
    "    test_accuracy= sess.run(accuracy, feed_dict={X:X_test, y:y_test})\n",
    "    print(\"Test accuracy: {:.4f}\".format(test_accuracy))"
   ]
  },
  {
   "cell_type": "markdown",
   "metadata": {},
   "source": [
    "If you open the tensorboard, you can see the plots of train, valid losses on the same graph and plots of the train, valid accuracies on the same graph\n",
    "- Open a command line, navigate to the folder of this tute and run **> tensorboard --logdir logs**\n",
    "- Open your browser at https://localhost:6006\n",
    "\n",
    "<img src=\"./images/TensorBoard.png\" width=\"600\"/>"
   ]
  },
  {
   "cell_type": "markdown",
   "metadata": {},
   "source": [
    "#### <span style=\"color:#0b486b\">4. Visualizing the Performance and Loss Objective Function </span>"
   ]
  },
  {
   "cell_type": "markdown",
   "metadata": {},
   "source": [
    "Import the `matplotlib` package and set the figure size."
   ]
  },
  {
   "cell_type": "code",
   "execution_count": 44,
   "metadata": {},
   "outputs": [],
   "source": [
    "import matplotlib.pyplot as plt\n",
    "%matplotlib inline\n",
    "plt.rcParams[\"figure.figsize\"] = (8,10)"
   ]
  },
  {
   "cell_type": "markdown",
   "metadata": {},
   "source": [
    "Plot the train, valid accuracies and losses stored in the `history`."
   ]
  },
  {
   "cell_type": "code",
   "execution_count": 45,
   "metadata": {},
   "outputs": [
    {
     "data": {
      "image/png": "[encoded data removed]",
      "text/plain": [
       "<Figure size 576x720 with 2 Axes>"
      ]
     },
     "metadata": {
      "needs_background": "light"
     },
     "output_type": "display_data"
    }
   ],
   "source": [
    "def plot_history(history):\n",
    "    train_losses =[]\n",
    "    train_accuracies=[]\n",
    "    valid_losses=[]\n",
    "    valid_accuracies=[]\n",
    "    for h_item in history:\n",
    "        train_losses.append(h_item[\"train_loss\"])\n",
    "        train_accuracies.append(h_item[\"train_acc\"])\n",
    "        valid_losses.append(h_item[\"val_loss\"])\n",
    "        valid_accuracies.append(h_item[\"val_acc\"])\n",
    "    plt.subplot(2,1,1)\n",
    "    plt.plot(train_losses, \"r.-\", label=\"train loss\")\n",
    "    plt.plot(valid_losses, \"b.-\", label= \"valid loss\")\n",
    "    plt.legend()\n",
    "    plt.subplot(2,1,2)\n",
    "    plt.plot(train_accuracies, \"r.-\", label=\"train acc\")\n",
    "    plt.plot(valid_accuracies, \"b.-\", label= \"valid acc\")\n",
    "    plt.legend()\n",
    "\n",
    "    plt.show()\n",
    "\n",
    "plot_history(history)"
   ]
  },
  {
   "cell_type": "markdown",
   "metadata": {},
   "source": [
    "### <span style=\"color:#0b486b\"> Additional Exercises </span> "
   ]
  },
  {
   "cell_type": "markdown",
   "metadata": {},
   "source": [
    "1. Write your own code to save a trained model to the hard disk and restore this model, then use the restored model to output the prediction result on the test set."
   ]
  },
  {
   "cell_type": "markdown",
   "metadata": {},
   "source": [
    "2. Write code to add the plots of `test accuracy` and `loss` to the above line charts with your color of interest."
   ]
  },
  {
   "cell_type": "markdown",
   "metadata": {},
   "source": [
    "3. Insert new code to the above code to enable outputting to TensorBoard the values of `training loss`, `training accuracy`, `valid loss`, and `valid accuracy` at the end of epochs. You can refer to the code [here](https://www.tensorflow.org/guide/summaries_and_tensorboard)."
   ]
  },
  {
   "cell_type": "markdown",
   "metadata": {},
   "source": [
    "4. Write code to do regression on the dataset `cadata` which can be downloaded [here](https://www.csie.ntu.edu.tw/~cjlin/libsvmtools/datasets/regression.html). Note that for a regression problem, you need to use the `L2` loss instead of the `cross-entropy` loss as in a classification problem. "
   ]
  },
  {
   "cell_type": "markdown",
   "metadata": {},
   "source": [
    "---\n",
    "### <span style=\"color:#0b486b\"> <div  style=\"text-align:center\">**THE END**</div> </span>"
   ]
  }
 ],
 "metadata": {
  "kernelspec": {
   "display_name": "tf2.5",
   "language": "python",
   "name": "tf2.5"
  },
  "language_info": {
   "codemirror_mode": {
    "name": "ipython",
    "version": 3
   },
   "file_extension": ".py",
   "mimetype": "text/x-python",
   "name": "python",
   "nbconvert_exporter": "python",
   "pygments_lexer": "ipython3",
   "version": "3.8.10"
  }
 },
 "nbformat": 4,
 "nbformat_minor": 4
}
