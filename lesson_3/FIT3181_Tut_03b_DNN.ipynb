{
 "cells": [
  {
   "cell_type": "markdown",
   "metadata": {},
   "source": [
    "# <span style=\"color:#0b486b\">  FIT3181: Deep Learning (2021)</span>\n",
    "***\n",
    "*CE/Lecturer:*  **Dr Trung Le** | trunglm@monash.edu <br/>\n",
    "*Head TA:*  **Mr Thanh Nguyen** | thanh.nguyen4@monash.edu <br/>\n",
    "*Tutor:* **Dr Van Nguyen**  \\[van.nguyen1@monash.edu \\] | **Mr James Tong** \\[james.tong1@monash.edu\\] | **Dr Mahmoud Mohammad** \\[mahmoud.hossam@monash.edu\\]\n",
    "<br/> <br/>\n",
    "Faculty of Information Technology, Monash University, Australia\n",
    "***"
   ]
  },
  {
   "cell_type": "markdown",
   "metadata": {},
   "source": [
    "# <span style=\"color:#0b486b\">Tutorial 3b: Feed-forward Neural Nets with TensorFlow 2.x</span>\n",
    "**This continues Tutorial 2a and shows you how to implement a feedforward neural network using TF 2.x**:  \n",
    "- ***Inspect how to use keras in TF 2.x to fulfill the task. As you can see later the implementation is much simpler*.**\n"
   ]
  },
  {
   "cell_type": "markdown",
   "metadata": {},
   "source": [
    "***"
   ]
  },
  {
   "cell_type": "markdown",
   "metadata": {},
   "source": [
    "### <span style=\"color:#0b486b\"> II.1 Feedforward Neural Network </span> <span style=\"color:red\">***** (highly important)</span>\n",
    "#### <span style=\"color:#0b486b\"> Tutorial objective </span>"
   ]
  },
  {
   "cell_type": "markdown",
   "metadata": {},
   "source": [
    "In this tutorial, we will consider a fairly realistic deep NN with *three* layers plus the *output* layer. Its architecture will be specified as $16 \\rightarrow 10 (ReLU) \\rightarrow 20 (ReLU) \\rightarrow 15 (ReLU) \\rightarrow 26$. This means:\n",
    "- The input size is 16\n",
    "- The first layer has 10 hidden units with 10 ReLU activation functions\n",
    "- The second layer has 20 hidden units with 20 ReLU activation functions\n",
    "- The third layer has 15 hidden units with 15 ReLU activation functions\n",
    "- And the output layer is a logit layer with 26 hidden units"
   ]
  },
  {
   "cell_type": "markdown",
   "metadata": {},
   "source": [
    "This network, for example, can take the `letter` dataset input with $16$ features and with $26$ classes (A-Z). **Our objective in this tutorial is to implement this specific network in `TensorFlow 1.x`.**"
   ]
  },
  {
   "cell_type": "markdown",
   "metadata": {},
   "source": [
    "### <span style=\"color:#0b486b\"> II.2 Implementation with TensorFlow 2.x</span> <span style=\"color:red\">***** (highly important)</span>\n",
    "We now shall implement the aforementioned network with the architecture of $16 \\rightarrow 10 (ReLU) \\rightarrow 20 (ReLU) \\rightarrow 15 (ReLu) \\rightarrow 26$ in Tensorflow using the dataset `letter`. "
   ]
  },
  {
   "cell_type": "markdown",
   "metadata": {},
   "source": [
    "This letter dataset can be found at [the LIBSVM website](https://www.csie.ntu.edu.tw/~cjlin/libsvmtools/datasets/multiclass.html#letter). Here is the dataset information:\n",
    "-  *The objective is to identify each of a large number of black-and-white rectangular pixel displays as one of the 26 capital letters in the English alphabet. The character images were based on 20 different fonts and each letter within these 20 fonts was randomly distorted to produce a file of 20,000 unique stimuli. Each stimulus was converted into 16 primitive numerical attributes (statistical moments and edge counts) which were then scaled to fit into a range of integer values from 0 through 15*"
   ]
  },
  {
   "cell_type": "markdown",
   "metadata": {},
   "source": [
    "A typical pipeline process of implementing a deep learning model is as follows:\n",
    "\n",
    "1. **Data processing**: \n",
    "    - Load the dataset and split it into train, valid, and test sets.  \n",
    "     \n",
    "2. **Building the model**: \n",
    "    - Build the model using keras layers.\n",
    "     \n",
    "3. **Compiling the model**: \n",
    "    - Compile the model and specify the optimizer, the loss (e.g., cross-entropy loss) you want to optimize, metrics you want to measure. \n",
    "    \n",
    "4. **Training and evaluating**:\n",
    "    - Train the model with a specific training set and validation set in a number of epochs.\n",
    "    - Predict the test set and assess its performance."
   ]
  },
  {
   "cell_type": "markdown",
   "metadata": {},
   "source": [
    "#### <span style=\"color:#0b486b\">1. Data Processing </span>"
   ]
  },
  {
   "cell_type": "markdown",
   "metadata": {},
   "source": [
    "We use `sklearn` to load the dataset."
   ]
  },
  {
   "cell_type": "code",
   "execution_count": 42,
   "metadata": {},
   "outputs": [],
   "source": [
    "import os\n",
    "import numpy as np\n",
    "from sklearn.datasets import load_svmlight_file"
   ]
  },
  {
   "cell_type": "code",
   "execution_count": 43,
   "metadata": {},
   "outputs": [
    {
     "name": "stdout",
     "output_type": "stream",
     "text": [
      "X data shape: (15000, 16)\n",
      "y data shape: (15000,)\n",
      "# classes: 26\n",
      "[ 1.  2.  3.  4.  5.  6.  7.  8.  9. 10. 11. 12. 13. 14. 15. 16. 17. 18.\n",
      " 19. 20. 21. 22. 23. 24. 25. 26.]\n"
     ]
    }
   ],
   "source": [
    "data_file_name= \"letter_scale.libsvm\"\n",
    "data_file = os.path.abspath(\"./data/\" + data_file_name)\n",
    "X_data, y_data = load_svmlight_file(data_file)\n",
    "X_data= X_data.toarray()\n",
    "print(\"X data shape: {}\".format(X_data.shape))\n",
    "print(\"y data shape: {}\".format(y_data.shape))\n",
    "print(\"# classes: {}\".format(len(np.unique(y_data))))\n",
    "print(np.unique(y_data))"
   ]
  },
  {
   "cell_type": "markdown",
   "metadata": {},
   "source": [
    "We use `sklearn` to split the dataset into the train, validation, and test sets. \n"
   ]
  },
  {
   "cell_type": "code",
   "execution_count": 44,
   "metadata": {},
   "outputs": [],
   "source": [
    "from sklearn.model_selection import train_test_split\n",
    "from sklearn import preprocessing\n",
    "\n",
    "def train_valid_test_split(data, target, train_size, test_size):\n",
    "    valid_size = 1 - (train_size + test_size)\n",
    "    X1, X_test, y1, y_test = train_test_split(data, target, test_size = test_size, random_state= 33)\n",
    "    X_train, X_valid, y_train, y_valid = train_test_split(X1, y1, test_size = float(valid_size)/(valid_size+ train_size))\n",
    "    return X_train, X_valid, X_test, y_train, y_valid, y_test"
   ]
  },
  {
   "cell_type": "markdown",
   "metadata": {},
   "source": [
    "Next, we would like to encode the label in the form of numeric vector. For example, we want to turn $y\\_data=[\"cat\", \"dog\", \"cat\", \"lion\", \"dog\"]$ to $y\\_data=[0,1,0,2,1]$."
   ]
  },
  {
   "cell_type": "markdown",
   "metadata": {},
   "source": [
    "To do this, in the following segment of code, we use the object `le` as an instance of the class `preprocessing.LabelEncoder()` which supports us to transform categorical labels in `y_data` to a numerical vector."
   ]
  },
  {
   "cell_type": "code",
   "execution_count": 45,
   "metadata": {},
   "outputs": [
    {
     "name": "stdout",
     "output_type": "stream",
     "text": [
      "[25 15 18 ...  0 11 21]\n"
     ]
    }
   ],
   "source": [
    "le = preprocessing.LabelEncoder()\n",
    "le.fit(y_data.ravel())\n",
    "y_data= le.transform(y_data)\n",
    "print(y_data[:])"
   ]
  },
  {
   "cell_type": "markdown",
   "metadata": {},
   "source": [
    "We now use the function defined above to prepare our data for training, validating and testing."
   ]
  },
  {
   "cell_type": "code",
   "execution_count": 46,
   "metadata": {},
   "outputs": [
    {
     "name": "stdout",
     "output_type": "stream",
     "text": [
      "(12000, 16) (1500, 16) (1500, 16)\n",
      "(12000,) (1500,) (1500,)\n",
      "lables: [ 0  1  2  3  4  5  6  7  8  9 10 11 12 13 14 15 16 17 18 19 20 21 22 23\n",
      " 24 25]\n"
     ]
    }
   ],
   "source": [
    "X_train, X_valid, X_test, y_train, y_valid, y_test = train_valid_test_split(X_data, y_data, train_size=0.8, test_size=0.1)\n",
    "y_train= y_train.reshape(-1)\n",
    "y_test= y_test.reshape(-1)\n",
    "y_valid= y_valid.reshape(-1)\n",
    "print(X_train.shape, X_valid.shape, X_test.shape)\n",
    "print(y_train.shape, y_valid.shape, y_test.shape)\n",
    "print(\"lables: {}\".format(np.unique(y_train)))"
   ]
  },
  {
   "cell_type": "code",
   "execution_count": 47,
   "metadata": {},
   "outputs": [],
   "source": [
    "train_size= int(X_train.shape[0])\n",
    "n_features= int(X_train.shape[1])\n",
    "n_classes= len(np.unique(y_train))"
   ]
  },
  {
   "cell_type": "markdown",
   "metadata": {},
   "source": [
    "#### <span style=\"color:#0b486b\">2. Build up the model </span>"
   ]
  },
  {
   "cell_type": "markdown",
   "metadata": {},
   "source": [
    "We build up a feedforward neural network with the architecture: $16 \\rightarrow 10 (ReLU) \\rightarrow 20 (ReLU) \\rightarrow 15 (ReLu) \\rightarrow 26$ in TensorFlow 2.x."
   ]
  },
  {
   "cell_type": "code",
   "execution_count": 48,
   "metadata": {},
   "outputs": [],
   "source": [
    "import tensorflow as tf\n",
    "from tensorflow.keras.layers import Dense, Flatten\n",
    "from tensorflow.keras.models import Sequential"
   ]
  },
  {
   "cell_type": "code",
   "execution_count": 49,
   "metadata": {},
   "outputs": [
    {
     "name": "stdout",
     "output_type": "stream",
     "text": [
      "2.5.0\n"
     ]
    }
   ],
   "source": [
    "print(tf.__version__)"
   ]
  },
  {
   "cell_type": "code",
   "execution_count": 50,
   "metadata": {},
   "outputs": [],
   "source": [
    "dnn_model = Sequential()\n",
    "dnn_model.add(Dense(units=10,  input_shape=(16,), activation='relu'))\n",
    "dnn_model.add(Dense(units=20, activation='relu'))\n",
    "dnn_model.add(Dense(units=15, activation='relu'))\n",
    "dnn_model.add(Dense(units=n_classes, activation='softmax'))"
   ]
  },
  {
   "cell_type": "code",
   "execution_count": 51,
   "metadata": {},
   "outputs": [
    {
     "name": "stdout",
     "output_type": "stream",
     "text": [
      "Model: \"sequential_3\"\n",
      "_________________________________________________________________\n",
      "Layer (type)                 Output Shape              Param #   \n",
      "=================================================================\n",
      "dense_21 (Dense)             (None, 10)                170       \n",
      "_________________________________________________________________\n",
      "dense_22 (Dense)             (None, 20)                220       \n",
      "_________________________________________________________________\n",
      "dense_23 (Dense)             (None, 15)                315       \n",
      "_________________________________________________________________\n",
      "dense_24 (Dense)             (None, 26)                416       \n",
      "=================================================================\n",
      "Total params: 1,121\n",
      "Trainable params: 1,121\n",
      "Non-trainable params: 0\n",
      "_________________________________________________________________\n"
     ]
    }
   ],
   "source": [
    "dnn_model.build()  # computional graph\n",
    "dnn_model.summary()"
   ]
  },
  {
   "cell_type": "code",
   "execution_count": 52,
   "metadata": {},
   "outputs": [
    {
     "data": {
      "text/plain": [
       "[<tensorflow.python.keras.layers.core.Dense at 0x2158d207580>,\n",
       " <tensorflow.python.keras.layers.core.Dense at 0x2158d161340>,\n",
       " <tensorflow.python.keras.layers.core.Dense at 0x2158d161ac0>,\n",
       " <tensorflow.python.keras.layers.core.Dense at 0x2158d16ff70>]"
      ]
     },
     "execution_count": 52,
     "metadata": {},
     "output_type": "execute_result"
    }
   ],
   "source": [
    "dnn_model.layers"
   ]
  },
  {
   "cell_type": "code",
   "execution_count": 53,
   "metadata": {},
   "outputs": [
    {
     "name": "stdout",
     "output_type": "stream",
     "text": [
      "dense_21\n"
     ]
    }
   ],
   "source": [
    "hidden1 = dnn_model.layers[0]\n",
    "print(hidden1.name)"
   ]
  },
  {
   "cell_type": "code",
   "execution_count": 54,
   "metadata": {},
   "outputs": [],
   "source": [
    "model_init = dnn_model.get_weights()\n",
    "weights, biases = hidden1.get_weights()"
   ]
  },
  {
   "cell_type": "code",
   "execution_count": 55,
   "metadata": {},
   "outputs": [
    {
     "data": {
      "text/plain": [
       "(16, 10)"
      ]
     },
     "execution_count": 55,
     "metadata": {},
     "output_type": "execute_result"
    }
   ],
   "source": [
    "weights.shape"
   ]
  },
  {
   "cell_type": "code",
   "execution_count": 56,
   "metadata": {},
   "outputs": [
    {
     "data": {
      "text/plain": [
       "(10,)"
      ]
     },
     "execution_count": 56,
     "metadata": {},
     "output_type": "execute_result"
    }
   ],
   "source": [
    "biases.shape"
   ]
  },
  {
   "cell_type": "markdown",
   "metadata": {},
   "source": [
    "#### <span style=\"color:#0b486b\">3. Compiling Model </span>"
   ]
  },
  {
   "cell_type": "code",
   "execution_count": 57,
   "metadata": {},
   "outputs": [],
   "source": [
    "dnn_model.compile(optimizer='adam', loss='sparse_categorical_crossentropy', metrics=['accuracy'])"
   ]
  },
  {
   "cell_type": "markdown",
   "metadata": {},
   "source": [
    "#### <span style=\"color:#0b486b\">4. Training and Evaluating </span>"
   ]
  },
  {
   "cell_type": "code",
   "execution_count": 58,
   "metadata": {},
   "outputs": [
    {
     "name": "stdout",
     "output_type": "stream",
     "text": [
      "Epoch 1/20\n",
      "375/375 [==============================] - 1s 847us/step - loss: 2.9410 - accuracy: 0.1268 - val_loss: 2.4020 - val_accuracy: 0.2527\n",
      "Epoch 2/20\n",
      "375/375 [==============================] - 0s 639us/step - loss: 1.9143 - accuracy: 0.4239 - val_loss: 1.6807 - val_accuracy: 0.5000\n",
      "Epoch 3/20\n",
      "375/375 [==============================] - 0s 645us/step - loss: 1.5287 - accuracy: 0.5346 - val_loss: 1.4962 - val_accuracy: 0.5540\n",
      "Epoch 4/20\n",
      "375/375 [==============================] - 0s 681us/step - loss: 1.3939 - accuracy: 0.5809 - val_loss: 1.3991 - val_accuracy: 0.5793\n",
      "Epoch 5/20\n",
      "375/375 [==============================] - 0s 697us/step - loss: 1.3106 - accuracy: 0.6118 - val_loss: 1.3136 - val_accuracy: 0.6207\n",
      "Epoch 6/20\n",
      "375/375 [==============================] - 0s 679us/step - loss: 1.2488 - accuracy: 0.6368 - val_loss: 1.2636 - val_accuracy: 0.6380\n",
      "Epoch 7/20\n",
      "375/375 [==============================] - 0s 659us/step - loss: 1.1987 - accuracy: 0.6520 - val_loss: 1.2241 - val_accuracy: 0.6307\n",
      "Epoch 8/20\n",
      "375/375 [==============================] - 0s 686us/step - loss: 1.1526 - accuracy: 0.6694 - val_loss: 1.1728 - val_accuracy: 0.6580\n",
      "Epoch 9/20\n",
      "375/375 [==============================] - 0s 677us/step - loss: 1.1101 - accuracy: 0.6816 - val_loss: 1.1321 - val_accuracy: 0.6687\n",
      "Epoch 10/20\n",
      "375/375 [==============================] - 0s 665us/step - loss: 1.0654 - accuracy: 0.6928 - val_loss: 1.0813 - val_accuracy: 0.6967\n",
      "Epoch 11/20\n",
      "375/375 [==============================] - 0s 666us/step - loss: 1.0252 - accuracy: 0.7067 - val_loss: 1.0564 - val_accuracy: 0.6940\n",
      "Epoch 12/20\n",
      "375/375 [==============================] - 0s 661us/step - loss: 0.9874 - accuracy: 0.7172 - val_loss: 1.0191 - val_accuracy: 0.7093\n",
      "Epoch 13/20\n",
      "375/375 [==============================] - 0s 648us/step - loss: 0.9545 - accuracy: 0.7259 - val_loss: 0.9917 - val_accuracy: 0.7147\n",
      "Epoch 14/20\n",
      "375/375 [==============================] - 0s 645us/step - loss: 0.9270 - accuracy: 0.7331 - val_loss: 0.9615 - val_accuracy: 0.7227\n",
      "Epoch 15/20\n",
      "375/375 [==============================] - 0s 653us/step - loss: 0.9038 - accuracy: 0.7377 - val_loss: 0.9523 - val_accuracy: 0.7200\n",
      "Epoch 16/20\n",
      "375/375 [==============================] - 0s 718us/step - loss: 0.8822 - accuracy: 0.7435 - val_loss: 0.9347 - val_accuracy: 0.7273\n",
      "Epoch 17/20\n",
      "375/375 [==============================] - 0s 629us/step - loss: 0.8643 - accuracy: 0.7472 - val_loss: 0.9066 - val_accuracy: 0.7327\n",
      "Epoch 18/20\n",
      "375/375 [==============================] - 0s 639us/step - loss: 0.8453 - accuracy: 0.7522 - val_loss: 0.8987 - val_accuracy: 0.7307\n",
      "Epoch 19/20\n",
      "375/375 [==============================] - 0s 643us/step - loss: 0.8313 - accuracy: 0.7552 - val_loss: 0.8847 - val_accuracy: 0.7320\n",
      "Epoch 20/20\n",
      "375/375 [==============================] - 0s 644us/step - loss: 0.8158 - accuracy: 0.7563 - val_loss: 0.8754 - val_accuracy: 0.7367\n"
     ]
    }
   ],
   "source": [
    "history = dnn_model.fit(x=X_train, y=y_train, batch_size=32, epochs=20, validation_data=(X_valid, y_valid))"
   ]
  },
  {
   "cell_type": "markdown",
   "metadata": {},
   "source": [
    "We now can evaluate the trained model on the test set or any subset."
   ]
  },
  {
   "cell_type": "code",
   "execution_count": 59,
   "metadata": {},
   "outputs": [
    {
     "name": "stdout",
     "output_type": "stream",
     "text": [
      "47/47 [==============================] - 0s 613us/step - loss: 0.8648 - accuracy: 0.7380\n"
     ]
    },
    {
     "data": {
      "text/plain": [
       "[0.8647688627243042, 0.7379999756813049]"
      ]
     },
     "execution_count": 59,
     "metadata": {},
     "output_type": "execute_result"
    }
   ],
   "source": [
    "dnn_model.evaluate(X_test, y_test)  #return loss and accuracy"
   ]
  },
  {
   "cell_type": "code",
   "execution_count": 60,
   "metadata": {},
   "outputs": [
    {
     "data": {
      "text/plain": [
       "array([0.  , 0.  , 0.  , 0.34, 0.  , 0.04, 0.  , 0.01, 0.  , 0.01, 0.  ,\n",
       "       0.  , 0.  , 0.  , 0.  , 0.6 , 0.  , 0.  , 0.  , 0.  , 0.  , 0.  ,\n",
       "       0.  , 0.  , 0.  , 0.  ], dtype=float32)"
      ]
     },
     "execution_count": 60,
     "metadata": {},
     "output_type": "execute_result"
    }
   ],
   "source": [
    "X_new = X_test[:10]\n",
    "y_prob = dnn_model.predict(X_new)\n",
    "y_prob[0].round(2)"
   ]
  },
  {
   "cell_type": "code",
   "execution_count": 61,
   "metadata": {},
   "outputs": [
    {
     "name": "stdout",
     "output_type": "stream",
     "text": [
      "Incorrect prediction!\n",
      "Corrected predeiction!\n",
      "Incorrect prediction!\n",
      "Incorrect prediction!\n",
      "Corrected predeiction!\n",
      "Corrected predeiction!\n",
      "Incorrect prediction!\n",
      "Corrected predeiction!\n",
      "Corrected predeiction!\n",
      "Corrected predeiction!\n"
     ]
    }
   ],
   "source": [
    "y_pred = np.argmax(dnn_model.predict(X_new), axis=-1)\n",
    "for i in range(X_new.shape[0]):\n",
    "    if y_pred[i]==y_test[i]:\n",
    "        print(\"Corrected predeiction!\")\n",
    "    else:\n",
    "        print(\"Incorrect prediction!\")"
   ]
  },
  {
   "cell_type": "markdown",
   "metadata": {},
   "source": [
    "#### <span style=\"color:#0b486b\">5. Visualizing the Performance and Loss Objective Function </span>\n",
    "\n",
    "The `fit()` method returns a History object containing the training parameters (history.params), the list of epochs it went through (history.epoch), and most importantly a dictionary (history.history) containing the loss and extra metrics it measured at the end of each epoch on the training set and on the validation set (if any). If you use this dictionary to create a pandas DataFrame and call its plot() method, you get the learning curves shown in the following."
   ]
  },
  {
   "cell_type": "code",
   "execution_count": 62,
   "metadata": {},
   "outputs": [
    {
     "data": {
      "image/png": "[encoded data removed]",
      "text/plain": [
       "<Figure size 576x360 with 1 Axes>"
      ]
     },
     "metadata": {
      "needs_background": "light"
     },
     "output_type": "display_data"
    }
   ],
   "source": [
    "import pandas as pd\n",
    "import matplotlib.pyplot as plt\n",
    "pd.DataFrame(history.history).plot(figsize=(8, 5))\n",
    "plt.grid(True)\n",
    "plt.gca().set_ylim(0, 1) # set the vertical range to [0-1]\n",
    "plt.show()"
   ]
  },
  {
   "cell_type": "markdown",
   "metadata": {},
   "source": [
    "#### <span style=\"color:#0b486b\">6. Playing around with different optimizers</span>"
   ]
  },
  {
   "cell_type": "code",
   "execution_count": 63,
   "metadata": {},
   "outputs": [
    {
     "name": "stdout",
     "output_type": "stream",
     "text": [
      "*Evaluating with Nadam\n",
      "\n",
      "47/47 [==============================] - 0s 675us/step - loss: 0.7800 - accuracy: 0.7740\n",
      "The test accuracy is 0.7739999890327454\n",
      "\n",
      "*Evaluating with Adam\n",
      "\n",
      "47/47 [==============================] - 0s 728us/step - loss: 0.7659 - accuracy: 0.7780\n",
      "The test accuracy is 0.777999997138977\n",
      "\n",
      "*Evaluating with Adadelta\n",
      "\n",
      "47/47 [==============================] - 0s 520us/step - loss: 3.2488 - accuracy: 0.0567\n",
      "The test accuracy is 0.05666666850447655\n",
      "\n",
      "*Evaluating with Adagrad\n",
      "\n",
      "47/47 [==============================] - 0s 542us/step - loss: 3.1018 - accuracy: 0.0453\n",
      "The test accuracy is 0.04533333331346512\n",
      "\n",
      "*Evaluating with RMSprop\n",
      "\n",
      "47/47 [==============================] - 0s 525us/step - loss: 0.7996 - accuracy: 0.7747\n",
      "The test accuracy is 0.7746666669845581\n",
      "\n",
      "*Evaluating with SGD\n",
      "\n",
      "47/47 [==============================] - 0s 542us/step - loss: 3.1370 - accuracy: 0.0680\n",
      "The test accuracy is 0.06800000369548798\n",
      "\n",
      "The best accuracy is 0.777999997138977 with Adam\n"
     ]
    }
   ],
   "source": [
    "from tensorflow import keras\n",
    "optimizer_names = [\"Nadam\", \"Adam\", \"Adadelta\", \"Adagrad\", \"RMSprop\", \"SGD\"]\n",
    "optimizer_list = [keras.optimizers.Nadam(learning_rate=0.001), keras.optimizers.Adam(learning_rate=0.001), keras.optimizers.Adadelta(learning_rate=0.001), \n",
    "                  keras.optimizers.Adagrad(learning_rate=0.001), keras.optimizers.RMSprop(learning_rate=0.001), keras.optimizers.SGD(learning_rate=0.001)]\n",
    "best_acc = 0\n",
    "best_i = -1\n",
    "for i in range(len(optimizer_list)):\n",
    "    dnn_model.set_weights(model_init)\n",
    "    print(\"*Evaluating with {}\\n\".format(str(optimizer_names[i])))\n",
    "    dnn_model.compile(optimizer=optimizer_list[i], loss='sparse_categorical_crossentropy', metrics=['accuracy'])\n",
    "    dnn_model.fit(x=X_train, y=y_train, batch_size=32, epochs=30, validation_data=(X_valid, y_valid), verbose=0)\n",
    "    acc = dnn_model.evaluate(X_test, y_test)[1]\n",
    "    print(\"The test accuracy is {}\\n\".format(acc))\n",
    "    if acc > best_acc:\n",
    "        best_acc = acc\n",
    "        best_i = i\n",
    "print(\"The best accuracy is {} with {}\".format(best_acc, optimizer_names[best_i]))\n",
    "        "
   ]
  },
  {
   "cell_type": "markdown",
   "metadata": {},
   "source": [
    "### <span style=\"color:#0b486b\"> II.3 Other Approaches to Build Up Models with TensorFlow 2.x</span> <span style=\"color:red\">*** (relatively important)</span>"
   ]
  },
  {
   "cell_type": "markdown",
   "metadata": {},
   "source": [
    "#### <span style=\"color:#0b486b\"> 1. Approach 1: Declaring a class inherited from `tf.keras.Model`</span>"
   ]
  },
  {
   "cell_type": "code",
   "execution_count": 64,
   "metadata": {},
   "outputs": [],
   "source": [
    "class MyDNN(tf.keras.Model):\n",
    "    def __init__(self, n_classes= 26):\n",
    "        super(MyDNN, self).__init__()\n",
    "        self.n_classes = n_classes\n",
    "        self.dense1 = tf.keras.layers.Dense(units=10, activation= 'relu')\n",
    "        self.dense2 = tf.keras.layers.Dense(units=20, activation= 'relu')\n",
    "        self.dense3 = tf.keras.layers.Dense(units=15, activation= 'relu')\n",
    "        self.dense4 = tf.keras.layers.Dense(units=self.n_classes, activation= 'softmax')\n",
    "    \n",
    "    def call(self,X): #X is the input, method call specifies how to compute the output from the input X\n",
    "        h = self.dense1(X)\n",
    "        h = self.dense2(h)\n",
    "        h = self.dense3(h)\n",
    "        h = self.dense4(h)\n",
    "        return h"
   ]
  },
  {
   "cell_type": "code",
   "execution_count": 65,
   "metadata": {},
   "outputs": [
    {
     "name": "stdout",
     "output_type": "stream",
     "text": [
      "Epoch 1/20\n",
      "188/188 [==============================] - 0s 1ms/step - loss: 3.1304 - accuracy: 0.1138 - val_loss: 2.8232 - val_accuracy: 0.2120\n",
      "Epoch 2/20\n",
      "188/188 [==============================] - 0s 804us/step - loss: 2.3696 - accuracy: 0.2861 - val_loss: 2.0825 - val_accuracy: 0.3667\n",
      "Epoch 3/20\n",
      "188/188 [==============================] - 0s 744us/step - loss: 1.8543 - accuracy: 0.4449 - val_loss: 1.7824 - val_accuracy: 0.4653\n",
      "Epoch 4/20\n",
      "188/188 [==============================] - 0s 714us/step - loss: 1.6351 - accuracy: 0.5091 - val_loss: 1.6309 - val_accuracy: 0.5033\n",
      "Epoch 5/20\n",
      "188/188 [==============================] - 0s 827us/step - loss: 1.5050 - accuracy: 0.5527 - val_loss: 1.5228 - val_accuracy: 0.5460\n",
      "Epoch 6/20\n",
      "188/188 [==============================] - 0s 800us/step - loss: 1.4055 - accuracy: 0.5797 - val_loss: 1.4388 - val_accuracy: 0.5707\n",
      "Epoch 7/20\n",
      "188/188 [==============================] - 0s 779us/step - loss: 1.3194 - accuracy: 0.6140 - val_loss: 1.3489 - val_accuracy: 0.5913\n",
      "Epoch 8/20\n",
      "188/188 [==============================] - 0s 752us/step - loss: 1.2477 - accuracy: 0.6438 - val_loss: 1.2943 - val_accuracy: 0.6100\n",
      "Epoch 9/20\n",
      "188/188 [==============================] - 0s 752us/step - loss: 1.1990 - accuracy: 0.6559 - val_loss: 1.2509 - val_accuracy: 0.6333\n",
      "Epoch 10/20\n",
      "188/188 [==============================] - 0s 784us/step - loss: 1.1588 - accuracy: 0.6689 - val_loss: 1.2200 - val_accuracy: 0.6380\n",
      "Epoch 11/20\n",
      "188/188 [==============================] - 0s 757us/step - loss: 1.1294 - accuracy: 0.6766 - val_loss: 1.1810 - val_accuracy: 0.6487\n",
      "Epoch 12/20\n",
      "188/188 [==============================] - 0s 752us/step - loss: 1.1023 - accuracy: 0.6823 - val_loss: 1.1585 - val_accuracy: 0.6540\n",
      "Epoch 13/20\n",
      "188/188 [==============================] - 0s 699us/step - loss: 1.0792 - accuracy: 0.6898 - val_loss: 1.1375 - val_accuracy: 0.6660\n",
      "Epoch 14/20\n",
      "188/188 [==============================] - 0s 810us/step - loss: 1.0572 - accuracy: 0.6950 - val_loss: 1.1077 - val_accuracy: 0.6733\n",
      "Epoch 15/20\n",
      "188/188 [==============================] - 0s 827us/step - loss: 1.0389 - accuracy: 0.6992 - val_loss: 1.0950 - val_accuracy: 0.6787\n",
      "Epoch 16/20\n",
      "188/188 [==============================] - 0s 763us/step - loss: 1.0189 - accuracy: 0.7023 - val_loss: 1.0763 - val_accuracy: 0.6760\n",
      "Epoch 17/20\n",
      "188/188 [==============================] - 0s 709us/step - loss: 1.0019 - accuracy: 0.7118 - val_loss: 1.0670 - val_accuracy: 0.6873\n",
      "Epoch 18/20\n",
      "188/188 [==============================] - 0s 811us/step - loss: 0.9869 - accuracy: 0.7153 - val_loss: 1.0606 - val_accuracy: 0.6880\n",
      "Epoch 19/20\n",
      "188/188 [==============================] - 0s 763us/step - loss: 0.9713 - accuracy: 0.7193 - val_loss: 1.0321 - val_accuracy: 0.6913\n",
      "Epoch 20/20\n",
      "188/188 [==============================] - 0s 800us/step - loss: 0.9584 - accuracy: 0.7201 - val_loss: 1.0155 - val_accuracy: 0.7020\n"
     ]
    },
    {
     "data": {
      "text/plain": [
       "<tensorflow.python.keras.callbacks.History at 0x2158af1f580>"
      ]
     },
     "execution_count": 65,
     "metadata": {},
     "output_type": "execute_result"
    }
   ],
   "source": [
    "mydnn = MyDNN(n_classes= 26)\n",
    "mydnn.compile(optimizer='adam', loss='sparse_categorical_crossentropy', metrics=['accuracy'])\n",
    "mydnn.fit(x= X_train, y= y_train, batch_size= 64, epochs= 20, validation_data = (X_valid, y_valid))"
   ]
  },
  {
   "cell_type": "markdown",
   "metadata": {},
   "source": [
    "#### <span style=\"color:#0b486b\"> 2. Approach 2: Using `tf.keras.Model` Directly</span>"
   ]
  },
  {
   "cell_type": "code",
   "execution_count": 66,
   "metadata": {},
   "outputs": [],
   "source": [
    "X = tf.keras.layers.Input(shape=(16,)) #declare input layer\n",
    "h = Dense(units=10, activation= 'relu')(X)\n",
    "h = Dense(units=20, activation= 'relu')(h)\n",
    "h = Dense(units=15, activation= 'relu')(h)\n",
    "h = Dense(units=26, activation= 'softmax')(h)\n",
    "dnn_model = tf.keras.Model(inputs= X, outputs=h)"
   ]
  },
  {
   "cell_type": "code",
   "execution_count": 67,
   "metadata": {},
   "outputs": [
    {
     "name": "stdout",
     "output_type": "stream",
     "text": [
      "Epoch 1/20\n",
      "188/188 [==============================] - 0s 1ms/step - loss: 3.1804 - accuracy: 0.0918 - val_loss: 2.9488 - val_accuracy: 0.1353\n",
      "Epoch 2/20\n",
      "188/188 [==============================] - 0s 677us/step - loss: 2.4060 - accuracy: 0.2946 - val_loss: 2.0105 - val_accuracy: 0.3993\n",
      "Epoch 3/20\n",
      "188/188 [==============================] - 0s 752us/step - loss: 1.7515 - accuracy: 0.4821 - val_loss: 1.6569 - val_accuracy: 0.4900\n",
      "Epoch 4/20\n",
      "188/188 [==============================] - 0s 706us/step - loss: 1.5155 - accuracy: 0.5473 - val_loss: 1.5152 - val_accuracy: 0.5427\n",
      "Epoch 5/20\n",
      "188/188 [==============================] - 0s 795us/step - loss: 1.3982 - accuracy: 0.5833 - val_loss: 1.4151 - val_accuracy: 0.5747\n",
      "Epoch 6/20\n",
      "188/188 [==============================] - 0s 736us/step - loss: 1.3214 - accuracy: 0.6096 - val_loss: 1.3531 - val_accuracy: 0.6007\n",
      "Epoch 7/20\n",
      "188/188 [==============================] - 0s 736us/step - loss: 1.2639 - accuracy: 0.6308 - val_loss: 1.3006 - val_accuracy: 0.6213\n",
      "Epoch 8/20\n",
      "188/188 [==============================] - 0s 677us/step - loss: 1.2159 - accuracy: 0.6499 - val_loss: 1.2624 - val_accuracy: 0.6327\n",
      "Epoch 9/20\n",
      "188/188 [==============================] - 0s 741us/step - loss: 1.1752 - accuracy: 0.6626 - val_loss: 1.2411 - val_accuracy: 0.6413\n",
      "Epoch 10/20\n",
      "188/188 [==============================] - 0s 768us/step - loss: 1.1403 - accuracy: 0.6737 - val_loss: 1.1879 - val_accuracy: 0.6580\n",
      "Epoch 11/20\n",
      "188/188 [==============================] - 0s 667us/step - loss: 1.1083 - accuracy: 0.6837 - val_loss: 1.1521 - val_accuracy: 0.6760\n",
      "Epoch 12/20\n",
      "188/188 [==============================] - 0s 683us/step - loss: 1.0784 - accuracy: 0.6908 - val_loss: 1.1130 - val_accuracy: 0.6767\n",
      "Epoch 13/20\n",
      "188/188 [==============================] - 0s 765us/step - loss: 1.0511 - accuracy: 0.7000 - val_loss: 1.0968 - val_accuracy: 0.6827\n",
      "Epoch 14/20\n",
      "188/188 [==============================] - 0s 797us/step - loss: 1.0278 - accuracy: 0.7063 - val_loss: 1.0681 - val_accuracy: 0.6893\n",
      "Epoch 15/20\n",
      "188/188 [==============================] - 0s 757us/step - loss: 1.0024 - accuracy: 0.7141 - val_loss: 1.0458 - val_accuracy: 0.6893\n",
      "Epoch 16/20\n",
      "188/188 [==============================] - 0s 725us/step - loss: 0.9820 - accuracy: 0.7176 - val_loss: 1.0266 - val_accuracy: 0.6893\n",
      "Epoch 17/20\n",
      "188/188 [==============================] - 0s 762us/step - loss: 0.9613 - accuracy: 0.7236 - val_loss: 1.0038 - val_accuracy: 0.7053\n",
      "Epoch 18/20\n",
      "188/188 [==============================] - 0s 757us/step - loss: 0.9425 - accuracy: 0.7297 - val_loss: 0.9933 - val_accuracy: 0.6993\n",
      "Epoch 19/20\n",
      "188/188 [==============================] - 0s 795us/step - loss: 0.9267 - accuracy: 0.7318 - val_loss: 0.9718 - val_accuracy: 0.7060\n",
      "Epoch 20/20\n",
      "188/188 [==============================] - 0s 719us/step - loss: 0.9113 - accuracy: 0.7337 - val_loss: 0.9624 - val_accuracy: 0.7140\n"
     ]
    },
    {
     "data": {
      "text/plain": [
       "<tensorflow.python.keras.callbacks.History at 0x215820a0bb0>"
      ]
     },
     "execution_count": 67,
     "metadata": {},
     "output_type": "execute_result"
    }
   ],
   "source": [
    "dnn_model.compile(optimizer='adam', loss='sparse_categorical_crossentropy', metrics=['accuracy'])\n",
    "dnn_model.fit(x= X_train, y= y_train, batch_size= 64, epochs= 20, validation_data = (X_valid, y_valid))"
   ]
  },
  {
   "cell_type": "markdown",
   "metadata": {},
   "source": [
    "#### <span style=\"color:#0b486b\"> 3. Approach 3: Using Traditional Mini-batch Approach</span>"
   ]
  },
  {
   "cell_type": "markdown",
   "metadata": {},
   "source": [
    "##### <span style=\"color:#0b486b\">Define a DL model </span>"
   ]
  },
  {
   "cell_type": "code",
   "execution_count": 68,
   "metadata": {},
   "outputs": [],
   "source": [
    "dnn_model = Sequential()\n",
    "dnn_model.add(Dense(units=10,  input_shape=(16,), activation='relu'))\n",
    "dnn_model.add(Dense(units=20, activation='relu'))\n",
    "dnn_model.add(Dense(units=15, activation='relu'))\n",
    "dnn_model.add(Dense(units=n_classes, activation='softmax'))\n",
    "dnn_model.compile(optimizer='adam', loss='sparse_categorical_crossentropy', metrics=['accuracy'])"
   ]
  },
  {
   "cell_type": "markdown",
   "metadata": {},
   "source": [
    "##### <span style=\"color:#0b486b\">Train model in many epochs</span>"
   ]
  },
  {
   "cell_type": "code",
   "execution_count": 69,
   "metadata": {},
   "outputs": [
    {
     "name": "stdout",
     "output_type": "stream",
     "text": [
      "Epoch 1: train acc=0.1447, train loss=2.8898 | valid acc=0.1353, valid loss= 2.9032\n",
      "Epoch 2: train acc=0.4305, train loss=1.9913 | valid acc=0.4080, valid loss= 2.0560\n",
      "Epoch 3: train acc=0.5198, train loss=1.6311 | valid acc=0.4880, valid loss= 1.7011\n",
      "Epoch 4: train acc=0.5574, train loss=1.4807 | valid acc=0.5333, valid loss= 1.5509\n",
      "Epoch 5: train acc=0.5881, train loss=1.3897 | valid acc=0.5647, valid loss= 1.4609\n",
      "Epoch 6: train acc=0.6097, train loss=1.3247 | valid acc=0.5847, valid loss= 1.3982\n",
      "Epoch 7: train acc=0.6291, train loss=1.2742 | valid acc=0.6020, valid loss= 1.3510\n",
      "Epoch 8: train acc=0.6398, train loss=1.2330 | valid acc=0.6093, valid loss= 1.3135\n",
      "Epoch 9: train acc=0.6503, train loss=1.1972 | valid acc=0.6200, valid loss= 1.2810\n",
      "Epoch 10: train acc=0.6602, train loss=1.1643 | valid acc=0.6300, valid loss= 1.2515\n",
      "Epoch 11: train acc=0.6689, train loss=1.1326 | valid acc=0.6380, valid loss= 1.2237\n",
      "Epoch 12: train acc=0.6749, train loss=1.1021 | valid acc=0.6433, valid loss= 1.1974\n",
      "Epoch 13: train acc=0.6825, train loss=1.0727 | valid acc=0.6473, valid loss= 1.1725\n",
      "Epoch 14: train acc=0.6888, train loss=1.0441 | valid acc=0.6547, valid loss= 1.1465\n",
      "Epoch 15: train acc=0.6952, train loss=1.0182 | valid acc=0.6620, valid loss= 1.1215\n",
      "Epoch 16: train acc=0.7031, train loss=0.9942 | valid acc=0.6720, valid loss= 1.0979\n",
      "Epoch 17: train acc=0.7085, train loss=0.9723 | valid acc=0.6780, valid loss= 1.0761\n",
      "Epoch 18: train acc=0.7144, train loss=0.9516 | valid acc=0.6840, valid loss= 1.0553\n",
      "Epoch 19: train acc=0.7203, train loss=0.9330 | valid acc=0.6947, valid loss= 1.0365\n",
      "Epoch 20: train acc=0.7257, train loss=0.9163 | valid acc=0.7020, valid loss= 1.0202\n"
     ]
    }
   ],
   "source": [
    "n_epochs =20\n",
    "batch_size = 64\n",
    "for epoch in range(n_epochs):\n",
    "    for idx_start in range(0, X_train.shape[0], batch_size):\n",
    "        idx_end = min(X_train.shape[0], idx_start + batch_size)\n",
    "        X_batch, y_batch = X_train[idx_start:idx_end], y_train[idx_start:idx_end]\n",
    "        train_loss_batch = dnn_model.train_on_batch(X_batch, y_batch)  #return the batch loss\n",
    "        \n",
    "    train_loss, train_acc = dnn_model.evaluate(x= X_train, y= y_train, batch_size= 64, verbose= 0)\n",
    "    valid_loss, valid_acc = dnn_model.evaluate(x= X_valid, y= y_valid, batch_size= 64, verbose= 0)\n",
    "    print('Epoch {}: train acc={:.4f}, train loss={:.4f} | valid acc={:.4f}, valid loss= {:.4f}'.format(epoch + 1, train_acc, train_loss, valid_acc, valid_loss))"
   ]
  },
  {
   "cell_type": "markdown",
   "metadata": {},
   "source": [
    "### <span style=\"color:#0b486b\"> Additional Exercises </span> "
   ]
  },
  {
   "cell_type": "markdown",
   "metadata": {},
   "source": [
    "1. Write your own code to save a trained model to the hard disk and restore this model, then use the restored model to output the prediction result on the test set."
   ]
  },
  {
   "cell_type": "markdown",
   "metadata": {},
   "source": [
    "2. Write code to tune the learning rate in the list [0.1, 0.01, 0.001, 0.005] for Adam."
   ]
  },
  {
   "cell_type": "markdown",
   "metadata": {},
   "source": [
    "3. Insert new code to the above code to enable outputting to TensorBoard the values of `training loss`, `training accuracy`, `valid loss`, and `valid accuracy` at the end of epochs. You can refer to the code [here](https://www.tensorflow.org/tensorboard/get_started)."
   ]
  },
  {
   "cell_type": "markdown",
   "metadata": {},
   "source": [
    "4. Write code to do regression on the dataset `cadata` which can be downloaded [here](https://www.csie.ntu.edu.tw/~cjlin/libsvmtools/datasets/regression.html). Note that for a regression problem, you need to use the `L2` loss instead of the `cross-entropy` loss as in a classification problem. "
   ]
  },
  {
   "cell_type": "markdown",
   "metadata": {},
   "source": [
    "---\n",
    "### <span style=\"color:#0b486b\"> <div  style=\"text-align:center\">**THE END**</div> </span>"
   ]
  }
 ],
 "metadata": {
  "kernelspec": {
   "display_name": "tf2.5",
   "language": "python",
   "name": "tf2.5"
  },
  "language_info": {
   "codemirror_mode": {
    "name": "ipython",
    "version": 3
   },
   "file_extension": ".py",
   "mimetype": "text/x-python",
   "name": "python",
   "nbconvert_exporter": "python",
   "pygments_lexer": "ipython3",
   "version": "3.8.10"
  }
 },
 "nbformat": 4,
 "nbformat_minor": 4
}
